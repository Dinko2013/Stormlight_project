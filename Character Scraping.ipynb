{
 "cells": [
  {
   "cell_type": "code",
   "execution_count": 1,
   "metadata": {},
   "outputs": [],
   "source": [
    "import pandas as  pd\n",
    "from selenium import webdriver\n",
    "from webdriver_manager.chrome import ChromeDriverManager\n"
   ]
  },
  {
   "cell_type": "markdown",
   "metadata": {},
   "source": [
    "GET Drivers"
   ]
  },
  {
   "cell_type": "code",
   "execution_count": 2,
   "metadata": {},
   "outputs": [
    {
     "name": "stdout",
     "output_type": "stream",
     "text": [
      "\n"
     ]
    },
    {
     "name": "stderr",
     "output_type": "stream",
     "text": [
      "[WDM] - ====== WebDriver manager ======\n",
      "[WDM] - Current google-chrome version is 102.0.5005\n",
      "[WDM] - Get LATEST chromedriver version for 102.0.5005 google-chrome\n",
      "[WDM] - Driver [C:\\Users\\modou\\.wdm\\drivers\\chromedriver\\win32\\102.0.5005.61\\chromedriver.exe] found in cache\n",
      "<ipython-input-2-c026f0c15647>:1: DeprecationWarning: executable_path has been deprecated, please pass in a Service object\n",
      "  driver = webdriver.Chrome(ChromeDriverManager().install())\n"
     ]
    }
   ],
   "source": [
    "driver = webdriver.Chrome(ChromeDriverManager().install())"
   ]
  },
  {
   "cell_type": "code",
   "execution_count": 3,
   "metadata": {},
   "outputs": [],
   "source": [
    "page_url=\"https://coppermind.net/wiki/Category:Books\"\n",
    "driver.get(page_url)\n"
   ]
  },
  {
   "cell_type": "code",
   "execution_count": 4,
   "metadata": {},
   "outputs": [],
   "source": [
    "from selenium.webdriver.common.by import By\n",
    "\n",
    "driver.find_element(By.XPATH, '//button[text() =\"Proceed\"]').click()"
   ]
  },
  {
   "cell_type": "markdown",
   "metadata": {},
   "source": [
    "Get book series"
   ]
  },
  {
   "cell_type": "code",
   "execution_count": 33,
   "metadata": {},
   "outputs": [
    {
     "name": "stdout",
     "output_type": "stream",
     "text": [
      "Series =>The Stormlight Archive\n",
      "Books: The Way of Kings>> Link: https://coppermind.net/wiki/The_Way_of_Kings\n",
      "Books: Words of Radiance>> Link: https://coppermind.net/wiki/Words_of_Radiance\n",
      "Books: Oathbringer>> Link: https://coppermind.net/wiki/Oathbringer\n",
      "Books: Rhythm of War>> Link: https://coppermind.net/wiki/Rhythm_of_War\n",
      "Books: Edgedancer (novella)>> Link: https://coppermind.net/wiki/Edgedancer_(novella)\n",
      "Books: Dawnshard (novella)>> Link: https://coppermind.net/wiki/Dawnshard_(novella)\n",
      "Series =>Mistborn (series)\n",
      "Books: Mistborn Era 1>> Link: https://coppermind.net/wiki/Mistborn_Era_1\n",
      "Books: Mistborn: The Final Empire>> Link: https://coppermind.net/wiki/Mistborn:_The_Final_Empire\n",
      "Books: The Well of Ascension>> Link: https://coppermind.net/wiki/The_Well_of_Ascension\n",
      "Books: The Hero of Ages>> Link: https://coppermind.net/wiki/The_Hero_of_Ages\n",
      "Books: Mistborn Era 2>> Link: https://coppermind.net/wiki/Mistborn_Era_2\n",
      "Books: The Alloy of Law>> Link: https://coppermind.net/wiki/The_Alloy_of_Law\n",
      "Books: Shadows of Self>> Link: https://coppermind.net/wiki/Shadows_of_Self\n",
      "Books: The Bands of Mourning>> Link: https://coppermind.net/wiki/The_Bands_of_Mourning\n",
      "Books: Mistborn: Secret History>> Link: https://coppermind.net/wiki/Mistborn:_Secret_History\n",
      "Books: The Eleventh Metal>> Link: https://coppermind.net/wiki/The_Eleventh_Metal\n",
      "Books: Allomancer Jak and the Pits of Eltania>> Link: https://coppermind.net/wiki/Allomancer_Jak_and_the_Pits_of_Eltania\n",
      "Series =>White Sand (series)\n",
      "Books: White Sand Volume 1>> Link: https://coppermind.net/wiki/White_Sand_Volume_1\n",
      "Books: White Sand Volume 2>> Link: https://coppermind.net/wiki/White_Sand_Volume_2\n",
      "Books: White Sand Volume 3>> Link: https://coppermind.net/wiki/White_Sand_Volume_3\n",
      "Series =>Cosmere\n",
      "Books: Elantris (book)>> Link: https://coppermind.net/wiki/Elantris_(book)\n",
      "Books: Warbreaker>> Link: https://coppermind.net/wiki/Warbreaker\n",
      "Books: Arcanum Unbounded>> Link: https://coppermind.net/wiki/Arcanum_Unbounded\n",
      "Books: The Hope of Elantris>> Link: https://coppermind.net/wiki/The_Hope_of_Elantris\n",
      "Books: The Emperor's Soul>> Link: https://coppermind.net/wiki/The_Emperor%27s_Soul\n",
      "Books: Shadows for Silence in the Forests of Hell>> Link: https://coppermind.net/wiki/Shadows_for_Silence_in_the_Forests_of_Hell\n",
      "Books: Sixth of the Dusk>> Link: https://coppermind.net/wiki/Sixth_of_the_Dusk\n",
      "Series =>Alcatraz Versus the Evil Librarians (series)\n",
      "Books: Alcatraz Versus the Evil Librarians (book)>> Link: https://coppermind.net/wiki/Alcatraz_Versus_the_Evil_Librarians_(book)\n",
      "Books: The Scrivener's Bones>> Link: https://coppermind.net/wiki/The_Scrivener%27s_Bones\n",
      "Books: The Knights of Crystallia>> Link: https://coppermind.net/wiki/The_Knights_of_Crystallia\n",
      "Books: The Shattered Lens>> Link: https://coppermind.net/wiki/The_Shattered_Lens\n",
      "Books: The Dark Talent>> Link: https://coppermind.net/wiki/The_Dark_Talent\n",
      "Series =>The Reckoners\n",
      "Books: Steelheart>> Link: https://coppermind.net/wiki/Steelheart\n",
      "Books: Firefight>> Link: https://coppermind.net/wiki/Firefight\n",
      "Books: Calamity>> Link: https://coppermind.net/wiki/Calamity\n",
      "Books: Lux (book)>> Link: https://coppermind.net/wiki/Lux_(book)\n",
      "Books: Mitosis>> Link: https://coppermind.net/wiki/Mitosis\n",
      "Series =>Legion (series)\n",
      "Books: Legion (book)>> Link: https://coppermind.net/wiki/Legion_(book)\n",
      "Books: Legion: Skin Deep>> Link: https://coppermind.net/wiki/Legion:_Skin_Deep\n",
      "Books: Legion: Lies of the Beholder>> Link: https://coppermind.net/wiki/Legion:_Lies_of_the_Beholder\n",
      "Books: Legion: The Many Lives of Stephen Leeds>> Link: https://coppermind.net/wiki/Legion:_The_Many_Lives_of_Stephen_Leeds\n",
      "Series =>Cytoverse\n",
      "Books: Skyward>> Link: https://coppermind.net/wiki/Skyward\n",
      "Books: Starsight>> Link: https://coppermind.net/wiki/Starsight\n",
      "Books: Cytonic (book)>> Link: https://coppermind.net/wiki/Cytonic_(book)\n",
      "Books: Defending Elysium>> Link: https://coppermind.net/wiki/Defending_Elysium\n",
      "Books: Sunreach>> Link: https://coppermind.net/wiki/Sunreach\n",
      "Books: ReDawn (novella)>> Link: https://coppermind.net/wiki/ReDawn_(novella)\n",
      "Books: Evershore (novella)>> Link: https://coppermind.net/wiki/Evershore_(novella)\n",
      "Series =>The Wheel of Time\n",
      "Books: The Gathering Storm>> Link: https://coppermind.net/wiki/The_Gathering_Storm\n",
      "Books: Towers of Midnight>> Link: https://coppermind.net/wiki/Towers_of_Midnight\n",
      "Books: A Memory of Light>> Link: https://coppermind.net/wiki/A_Memory_of_Light\n",
      "Books: River of Souls>> Link: https://coppermind.net/wiki/River_of_Souls\n",
      "Series =>Infinity Blade\n",
      "Books: Infinity Blade: Awakening>> Link: https://coppermind.net/wiki/Infinity_Blade:_Awakening\n",
      "Books: Infinity Blade: Redemption>> Link: https://coppermind.net/wiki/Infinity_Blade:_Redemption\n",
      "Series =>Firstborn\n",
      "Books: Firstborn>> Link: https://coppermind.net/wiki/Firstborn\n",
      "Books: I Hate Dragons>> Link: https://coppermind.net/wiki/I_Hate_Dragons\n",
      "Books: Heuristic Algorithm and Reasoning Response Engine>> Link: https://coppermind.net/wiki/Heuristic_Algorithm_and_Reasoning_Response_Engine\n",
      "Books: The Rithmatist>> Link: https://coppermind.net/wiki/The_Rithmatist\n",
      "Books: Dreamer>> Link: https://coppermind.net/wiki/Dreamer\n",
      "Books: Perfect State>> Link: https://coppermind.net/wiki/Perfect_State\n",
      "Books: Snapshot>> Link: https://coppermind.net/wiki/Snapshot\n",
      "Books: Children of the Nameless>> Link: https://coppermind.net/wiki/Children_of_the_Nameless\n",
      "Books: The Original>> Link: https://coppermind.net/wiki/The_Original\n",
      "Books: Dark One Book 1>> Link: https://coppermind.net/wiki/Dark_One_Book_1\n"
     ]
    }
   ],
   "source": [
    "def makeBookObject() :\n",
    "        class baseObjectBook():\n",
    "            def ___init__(self,value,link,series):\n",
    "                self.value = value\n",
    "                self.lnk = link \n",
    "           \n",
    "        return baseObjectBook;\n",
    "        \n",
    "objBase = makeBookObject()\n",
    "Books = [objBase]\n",
    "x = driver.find_elements(By.CLASS_NAME, 'kv')\n",
    "for a in x:\n",
    "    print(\"Series =>\" + a.find_element(By.TAG_NAME,'a').get_attribute('title')) \n",
    "    y=a.find_elements(By.TAG_NAME,'td')\n",
    "    for b in y:\n",
    "        p = makeBookObject()\n",
    "        z = b.find_elements(By.TAG_NAME,'a')\n",
    "        for c in z:\n",
    "            print(\"Books: \" + c.get_attribute('title') + \">> Link: \"+ c.get_attribute('href')  )\n",
    "\n",
    "    \n",
    "\n",
    "\n",
    "\n",
    "        \n",
    "        \n",
    "        \n",
    "    \n",
    "    \n"
   ]
  },
  {
   "cell_type": "code",
   "execution_count": null,
   "metadata": {},
   "outputs": [],
   "source": [
    "x= driver.find_elements(By.TAG_NAME, 'a')\n",
    "Topics = [\"\"]\n",
    "for e in x:\n",
    "    print(e)"
   ]
  },
  {
   "cell_type": "code",
   "execution_count": null,
   "metadata": {},
   "outputs": [],
   "source": [
    "print(topics)"
   ]
  },
  {
   "cell_type": "code",
   "execution_count": null,
   "metadata": {},
   "outputs": [],
   "source": []
  },
  {
   "cell_type": "code",
   "execution_count": null,
   "metadata": {},
   "outputs": [],
   "source": []
  }
 ],
 "metadata": {
  "kernelspec": {
   "display_name": "Python 3.8.3 32-bit",
   "language": "python",
   "name": "python3"
  },
  "language_info": {
   "codemirror_mode": {
    "name": "ipython",
    "version": 3
   },
   "file_extension": ".py",
   "mimetype": "text/x-python",
   "name": "python",
   "nbconvert_exporter": "python",
   "pygments_lexer": "ipython3",
   "version": "3.8.3"
  },
  "vscode": {
   "interpreter": {
    "hash": "cb858e472e5875de738cdde6dca94d6b367c87f760ad3d16195c588ba9edb082"
   }
  }
 },
 "nbformat": 4,
 "nbformat_minor": 4
}
