{
 "cells": [
  {
   "cell_type": "code",
   "execution_count": 14,
   "metadata": {},
   "outputs": [],
   "source": [
    "import pandas as  pd\n",
    "from selenium import webdriver\n",
    "from webdriver_manager.chrome import ChromeDriverManager\n"
   ]
  },
  {
   "cell_type": "markdown",
   "metadata": {},
   "source": [
    "GET Drivers"
   ]
  },
  {
   "cell_type": "code",
   "execution_count": 15,
   "metadata": {},
   "outputs": [
    {
     "name": "stdout",
     "output_type": "stream",
     "text": [
      "\n"
     ]
    },
    {
     "name": "stderr",
     "output_type": "stream",
     "text": [
      "[WDM] - ====== WebDriver manager ======\n",
      "[WDM] - Current google-chrome version is 102.0.5005\n",
      "[WDM] - Get LATEST chromedriver version for 102.0.5005 google-chrome\n",
      "[WDM] - Driver [C:\\Users\\keitam1\\.wdm\\drivers\\chromedriver\\win32\\102.0.5005.61\\chromedriver.exe] found in cache\n",
      "C:\\Users\\keitam1\\AppData\\Local\\Temp\\ipykernel_25856\\1503906442.py:1: DeprecationWarning: executable_path has been deprecated, please pass in a Service object\n",
      "  driver = webdriver.Chrome(ChromeDriverManager().install())\n"
     ]
    }
   ],
   "source": [
    "driver = webdriver.Chrome(ChromeDriverManager().install())"
   ]
  },
  {
   "cell_type": "code",
   "execution_count": 201,
   "metadata": {},
   "outputs": [],
   "source": [
    "page_url=\"https://coppermind.net/wiki/Category:Books\"\n",
    "driver.get(page_url)"
   ]
  },
  {
   "cell_type": "code",
   "execution_count": 17,
   "metadata": {},
   "outputs": [],
   "source": [
    "from selenium.webdriver.common.by import By\n",
    "\n",
    "driver.find_element(By.XPATH, '//button[text() =\"Proceed\"]').click()"
   ]
  },
  {
   "cell_type": "markdown",
   "metadata": {},
   "source": [
    "Get book series"
   ]
  },
  {
   "cell_type": "code",
   "execution_count": 202,
   "metadata": {},
   "outputs": [],
   "source": [
    "def makeBookObject() :\n",
    "        class baseObjectBook():\n",
    "            def ___init__(self,title,link,saga):\n",
    "                self.title = title\n",
    "                self.link = link \n",
    "                self.saga =saga\n",
    "           \n",
    "        return baseObjectBook;\n",
    "        \n",
    "o = makeBookObject()\n",
    "Books=[]\n",
    "x = driver.find_elements(By.CLASS_NAME, 'kv')\n",
    "for a in x:\n",
    "    y=a.find_elements(By.TAG_NAME,'td')\n",
    "    for b in y:\n",
    "        z = b.find_elements(By.TAG_NAME,'a')\n",
    "        for c in z:\n",
    "            o.saga =  a.find_element(By.TAG_NAME,'th').text\n",
    "            o.title = c.get_attribute('title') \n",
    "            o.link = c.get_attribute('href')\n",
    "            x = makeBookObject()\n",
    "            x=o\n",
    "            Books.append(o)\n",
    "            o = makeBookObject()"
   ]
  },
  {
   "cell_type": "code",
   "execution_count": 213,
   "metadata": {},
   "outputs": [],
   "source": [
    "def makeBookObjectComplete() :\n",
    "        class baseObjectBookComplete():\n",
    "            def ___init__(self,title,link,saga,follows,precedes,setting,collaborators,released,publisher,isbn,pageCount,wordCount):\n",
    "                self.title = title\n",
    "                self.link = link \n",
    "                self.saga =saga\n",
    "                self.follows = follows\n",
    "                self.precedes = precedes\n",
    "                self.setting = setting[\"\"]\n",
    "                self.collaborators = collaborators[\"\"]\n",
    "                self.release = released\n",
    "                self.publisher = publisher\n",
    "                self.isbn = isbn        \n",
    "                self.pageCount = pageCount \n",
    "                self.wordCount = wordCount\n",
    "        return baseObjectBookComplete;\n",
    "    \n",
    "BooksComplete =[]\n",
    "\n",
    "for bk in Books:\n",
    "        driver.get(bk.link)\n",
    "\n",
    "        details = [\"\"]\n",
    "        x = driver.find_elements(By.CLASS_NAME, 'infobox')\n",
    "        for a in x:\n",
    "                y=a.find_elements(By.CLASS_NAME,'kv')\n",
    "                for b in y:\n",
    "                        details.append(b.text)\n",
    "\n",
    "\n",
    "        length = len(details)\n",
    "        book = makeBookObjectComplete()\n",
    "        book.title = bk.title\n",
    "        book.link = bk.link\n",
    "        book.saga = bk.saga\n",
    "        for i in range(length):\n",
    "         x= details[i].split(\" \",1)\n",
    "        if 'Precedes' in x[0]:\n",
    "         book.precedes = str(x[1])\n",
    "        elif 'Setting' in x[0]:\n",
    "         book.setting = x[1].split(\", \")\n",
    "        elif 'Collaborators' in x[0]:\n",
    "         book.collaborators = x[1].split(\", \")\n",
    "        elif 'Released' in x[0]:\n",
    "         book.released = x[1]  \n",
    "        elif 'Publisher' in x[0]:\n",
    "         book.publisher = x[1]\n",
    "        elif 'ISBN' in x[0]:\n",
    "         book.isbn = x[1]\n",
    "        elif 'Page' in x[0]:\n",
    "         y= x[1].split(\" \",1)\n",
    "         book.pageCount = y[1]\n",
    "        elif  'Word' in x[0]:\n",
    "         y= x[1].split(\" \",1)\n",
    "         book.wordCount = y[1]\n",
    "        a = makeBookObjectComplete()\n",
    "        a = book\n",
    "        BooksComplete.append(a)\n",
    "\n"
   ]
  },
  {
   "cell_type": "code",
   "execution_count": 214,
   "metadata": {},
   "outputs": [
    {
     "name": "stdout",
     "output_type": "stream",
     "text": [
      "384,265\n",
      "398,238\n",
      "458,045\n",
      "455,891\n",
      "51,324\n",
      "56,282\n"
     ]
    },
    {
     "ename": "AttributeError",
     "evalue": "type object 'baseObjectBookComplete' has no attribute 'wordCount'",
     "output_type": "error",
     "traceback": [
      "\u001b[1;31m---------------------------------------------------------------------------\u001b[0m",
      "\u001b[1;31mAttributeError\u001b[0m                            Traceback (most recent call last)",
      "\u001b[1;32mc:\\Users\\keitam1\\Documents\\Work\\Personal Projects\\Stormlight_project\\GetBooks.ipynb Cell 9'\u001b[0m in \u001b[0;36m<cell line: 1>\u001b[1;34m()\u001b[0m\n\u001b[0;32m      <a href='vscode-notebook-cell:/c%3A/Users/keitam1/Documents/Work/Personal%20Projects/Stormlight_project/GetBooks.ipynb#ch0000011?line=0'>1</a>\u001b[0m \u001b[39mfor\u001b[39;00m b \u001b[39min\u001b[39;00m BooksComplete:\n\u001b[1;32m----> <a href='vscode-notebook-cell:/c%3A/Users/keitam1/Documents/Work/Personal%20Projects/Stormlight_project/GetBooks.ipynb#ch0000011?line=1'>2</a>\u001b[0m     \u001b[39mprint\u001b[39m(b\u001b[39m.\u001b[39;49mwordCount)\n",
      "\u001b[1;31mAttributeError\u001b[0m: type object 'baseObjectBookComplete' has no attribute 'wordCount'"
     ]
    }
   ],
   "source": [
    "for b in BooksComplete:\n",
    "    print(b.wordCount)"
   ]
  }
 ],
 "metadata": {
  "kernelspec": {
   "display_name": "Python 3.10.4 64-bit",
   "language": "python",
   "name": "python3"
  },
  "language_info": {
   "codemirror_mode": {
    "name": "ipython",
    "version": 3
   },
   "file_extension": ".py",
   "mimetype": "text/x-python",
   "name": "python",
   "nbconvert_exporter": "python",
   "pygments_lexer": "ipython3",
   "version": "3.10.4"
  },
  "vscode": {
   "interpreter": {
    "hash": "1a09ea459ee7e81c736ca9dffd0f603b9f4507a5e36c4f2b5f3604bec7cc609f"
   }
  }
 },
 "nbformat": 4,
 "nbformat_minor": 4
}
