{
 "cells": [
  {
   "cell_type": "code",
   "execution_count": 2,
   "metadata": {},
   "outputs": [],
   "source": [
    "import pandas as  pd\n",
    "from selenium import webdriver\n",
    "from webdriver_manager.chrome import ChromeDriverManager\n"
   ]
  },
  {
   "cell_type": "markdown",
   "metadata": {},
   "source": [
    "GET Drivers"
   ]
  },
  {
   "cell_type": "code",
   "execution_count": 3,
   "metadata": {},
   "outputs": [
    {
     "name": "stdout",
     "output_type": "stream",
     "text": [
      "\n"
     ]
    },
    {
     "name": "stderr",
     "output_type": "stream",
     "text": [
      "[WDM] - ====== WebDriver manager ======\n",
      "[WDM] - Current google-chrome version is 102.0.5005\n",
      "[WDM] - Get LATEST chromedriver version for 102.0.5005 google-chrome\n",
      "[WDM] - Driver [C:\\Users\\keitam1\\.wdm\\drivers\\chromedriver\\win32\\102.0.5005.61\\chromedriver.exe] found in cache\n",
      "C:\\Users\\keitam1\\AppData\\Local\\Temp\\ipykernel_19012\\1503906442.py:1: DeprecationWarning: executable_path has been deprecated, please pass in a Service object\n",
      "  driver = webdriver.Chrome(ChromeDriverManager().install())\n"
     ]
    }
   ],
   "source": [
    "driver = webdriver.Chrome(ChromeDriverManager().install())"
   ]
  },
  {
   "cell_type": "code",
   "execution_count": 4,
   "metadata": {},
   "outputs": [],
   "source": [
    "page_url=\"https://coppermind.net/wiki/Category:Books\"\n",
    "driver.get(page_url)"
   ]
  },
  {
   "cell_type": "code",
   "execution_count": 5,
   "metadata": {},
   "outputs": [],
   "source": [
    "from selenium.webdriver.common.by import By\n",
    "\n",
    "driver.find_element(By.XPATH, '//button[text() =\"Proceed\"]').click()"
   ]
  },
  {
   "cell_type": "markdown",
   "metadata": {},
   "source": [
    "Get book series"
   ]
  },
  {
   "cell_type": "code",
   "execution_count": 6,
   "metadata": {},
   "outputs": [],
   "source": [
    "def makeBookObject() :\n",
    "        class baseObjectBook():\n",
    "            def ___init__(self,title,link,saga):\n",
    "                self.title = title\n",
    "                self.link = link \n",
    "                self.saga =saga\n",
    "           \n",
    "        return baseObjectBook;\n",
    "        \n",
    "o = makeBookObject()\n",
    "Books=[]\n",
    "x = driver.find_elements(By.CLASS_NAME, 'kv')\n",
    "for a in x:\n",
    "    y=a.find_elements(By.TAG_NAME,'td')\n",
    "    for b in y:\n",
    "        z = b.find_elements(By.TAG_NAME,'a')\n",
    "        for c in z:\n",
    "            o.saga =  a.find_element(By.TAG_NAME,'th').text\n",
    "            o.title = c.get_attribute('title') \n",
    "            o.link = c.get_attribute('href')\n",
    "            x = makeBookObject()\n",
    "            x=o\n",
    "            Books.append(o)\n",
    "            o = makeBookObject()"
   ]
  },
  {
   "cell_type": "code",
   "execution_count": 89,
   "metadata": {},
   "outputs": [
    {
     "name": "stdout",
     "output_type": "stream",
     "text": [
      "======> New Book\n",
      "======> New Book\n",
      "======> New Book\n",
      "======> New Book\n",
      "======> New Book\n",
      "======> New Book\n",
      "======> New Book\n",
      "======> New Book\n",
      "======> New Book\n",
      "======> New Book\n",
      "======> New Book\n",
      "======> New Book\n",
      "======> New Book\n",
      "======> New Book\n",
      "======> New Book\n",
      "======> New Book\n",
      "======> New Book\n",
      "======> New Book\n",
      "======> New Book\n",
      "======> New Book\n",
      "======> New Book\n",
      "======> New Book\n",
      "======> New Book\n",
      "======> New Book\n",
      "======> New Book\n",
      "======> New Book\n",
      "======> New Book\n",
      "======> New Book\n",
      "======> New Book\n",
      "======> New Book\n",
      "======> New Book\n",
      "======> New Book\n",
      "======> New Book\n",
      "======> New Book\n",
      "======> New Book\n",
      "======> New Book\n",
      "======> New Book\n",
      "======> New Book\n",
      "======> New Book\n",
      "======> New Book\n",
      "======> New Book\n",
      "======> New Book\n",
      "======> New Book\n",
      "======> New Book\n",
      "======> New Book\n",
      "======> New Book\n",
      "======> New Book\n",
      "======> New Book\n",
      "======> New Book\n",
      "======> New Book\n",
      "======> New Book\n",
      "======> New Book\n",
      "======> New Book\n",
      "======> New Book\n",
      "======> New Book\n",
      "======> New Book\n",
      "======> New Book\n",
      "======> New Book\n",
      "======> New Book\n",
      "======> New Book\n",
      "======> New Book\n",
      "======> New Book\n",
      "======> New Book\n",
      "======> New Book\n"
     ]
    }
   ],
   "source": [
    "import numpy as np\n",
    "def makeBookObjectComplete() :\n",
    "        class baseObjectBookComplete():\n",
    "                def ___init__(self,title,link,saga,follows,precedes,setting,collaborators,released,publisher,isbn,pageCount,wordCount):\n",
    "                        self.title = title\n",
    "                        self.link = link \n",
    "                        self.saga =saga\n",
    "                        self.follows = follows\n",
    "                        self.precedes = precedes\n",
    "                        self.setting = setting[\"\"]\n",
    "                        self.collaborators = collaborators[\"\"]\n",
    "                        self.release = released\n",
    "                        self.publisher = publisher\n",
    "                        self.isbn = isbn        \n",
    "                        self.pageCount = pageCount \n",
    "                        self.wordCount = wordCount\n",
    "        return baseObjectBookComplete;\n",
    "    \n",
    "BooksComplete =[]\n",
    "\n",
    "for bk in Books:\n",
    "        driver.get(bk.link)\n",
    "        bookComplete = makeBookObjectComplete()\n",
    "        y = driver.find_element(By.CLASS_NAME, 'infobox')\n",
    "        findOtherDetails = y.find_elements(By.CLASS_NAME, 'kv')\n",
    "        bookComplete.title = bk.title\n",
    "        bookComplete.link =bk.link\n",
    "        bookComplete.saga = bk.saga\n",
    "        track =0\n",
    "        for detail in findOtherDetails:\n",
    "               xx = detail.find_element(By.TAG_NAME, 'th')\n",
    "               yy = detail.find_elements(By.TAG_NAME, 'td')\n",
    "               for ya in yy:\n",
    "                       if(xx.text == \"Follows\"):\n",
    "                               if(ya.text is None):\n",
    "                                    track=1   \n",
    "                               else:\n",
    "                                       bookComplete.follows =ya.text\n",
    "                               \n",
    "                       elif(xx.text == \"Precedes\"):\n",
    "                               bookComplete.precedes = ya.text\n",
    "                               track=2\n",
    "                       elif(xx.text == \"Setting\"):\n",
    "                               bookComplete.setting = ya.text\n",
    "                               track=3\n",
    "                       elif(xx.text == \"Released\"):\n",
    "                               bookComplete.released = ya.text\n",
    "                               track=4\n",
    "                       elif(xx.text == \"Collaborators\"):\n",
    "                               bookComplete.collaborators = ya.text\n",
    "                               track=5\n",
    "                       elif(xx.text == \"Publisher\"):\n",
    "                               bookComplete.publisher = ya.text\n",
    "                               track=6\n",
    "                       elif(xx.text == \"ISBN\"):\n",
    "                               bookComplete.isbn = ya.text\n",
    "                               track=7\n",
    "                       elif(xx.text == \"Word Count\"):\n",
    "                               bookComplete.wordCount = ya.text\n",
    "                               track=8\n",
    "                       elif(xx.text == \"Page Count\"):\n",
    "                               bookComplete.precedes = ya.text\n",
    "                               track=9\n",
    "                       def Follows():\n",
    "                                 bookComplete.follows =\" \"\n",
    "\n",
    "                       def Precedes():\n",
    "                                bookComplete.follows =\" \"\n",
    "\n",
    "                       def Setting():\n",
    "                                bookComplete.follows =\" \"\n",
    "\n",
    "                       def Released():\n",
    "                                 bookComplete.follows =\" \"\n",
    "\n",
    "                       def Collaborators():\n",
    "                                bookComplete.follows =\" \"\n",
    "\n",
    "                       def Publisher():\n",
    "                                 bookComplete.follows =\" \"\n",
    "\n",
    "                       def ISBN():\n",
    "                                bookComplete.follows =\" \"\n",
    "\n",
    "                       def WordCount():\n",
    "                                bookComplete.follows =\" \"\n",
    "\n",
    "                       def PageCount():\n",
    "                                 bookComplete.follows =\" \"\n",
    "\n",
    "                       def track_val (track):\n",
    "                                switcher = {\n",
    "                                        1: Follows,\n",
    "                                        2: Precedes,\n",
    "                                        3: Setting,\n",
    "                                        4: Released,\n",
    "                                        5: Collaborators,\n",
    "                                        6: Publisher,\n",
    "                                        7: WordCount,\n",
    "                                        8: PageCount,\n",
    "                                }\n",
    "                                track_val(track)        \n",
    "                                BooksComplete.append(bookComplete)\n",
    "        print(\"======> New Book\")\n",
    "        \n",
    "                       \n",
    " "
   ]
  },
  {
   "cell_type": "code",
   "execution_count": 90,
   "metadata": {},
   "outputs": [
    {
     "ename": "AttributeError",
     "evalue": "type object 'baseObjectBookComplete' has no attribute 'follows'",
     "output_type": "error",
     "traceback": [
      "\u001b[1;31m---------------------------------------------------------------------------\u001b[0m",
      "\u001b[1;31mAttributeError\u001b[0m                            Traceback (most recent call last)",
      "\u001b[1;32mc:\\Users\\keitam1\\Documents\\Work\\Personal Projects\\Stormlight_project\\GetBooks.ipynb Cell 9'\u001b[0m in \u001b[0;36m<cell line: 1>\u001b[1;34m()\u001b[0m\n\u001b[0;32m      <a href='vscode-notebook-cell:/c%3A/Users/keitam1/Documents/Work/Personal%20Projects/Stormlight_project/GetBooks.ipynb#ch0000008?line=0'>1</a>\u001b[0m \u001b[39mfor\u001b[39;00m book \u001b[39min\u001b[39;00m BooksComplete:\n\u001b[1;32m----> <a href='vscode-notebook-cell:/c%3A/Users/keitam1/Documents/Work/Personal%20Projects/Stormlight_project/GetBooks.ipynb#ch0000008?line=1'>2</a>\u001b[0m     \u001b[39mprint\u001b[39m(book\u001b[39m.\u001b[39;49mfollows \u001b[39mis\u001b[39;00m \u001b[39mNone\u001b[39;00m)\n",
      "\u001b[1;31mAttributeError\u001b[0m: type object 'baseObjectBookComplete' has no attribute 'follows'"
     ]
    }
   ],
   "source": [
    "for book in BooksComplete:\n",
    "    print(book.follows is None)"
   ]
  },
  {
   "cell_type": "code",
   "execution_count": null,
   "metadata": {},
   "outputs": [],
   "source": []
  }
 ],
 "metadata": {
  "kernelspec": {
   "display_name": "Python 3.10.4 64-bit",
   "language": "python",
   "name": "python3"
  },
  "language_info": {
   "codemirror_mode": {
    "name": "ipython",
    "version": 3
   },
   "file_extension": ".py",
   "mimetype": "text/x-python",
   "name": "python",
   "nbconvert_exporter": "python",
   "pygments_lexer": "ipython3",
   "version": "3.10.4"
  },
  "vscode": {
   "interpreter": {
    "hash": "1a09ea459ee7e81c736ca9dffd0f603b9f4507a5e36c4f2b5f3604bec7cc609f"
   }
  }
 },
 "nbformat": 4,
 "nbformat_minor": 4
}
