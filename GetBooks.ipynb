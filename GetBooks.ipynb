{
 "cells": [
  {
   "cell_type": "code",
   "execution_count": 1,
   "metadata": {},
   "outputs": [],
   "source": [
    "import pandas as  pd\n",
    "from selenium import webdriver\n",
    "from webdriver_manager.chrome import ChromeDriverManager\n"
   ]
  },
  {
   "cell_type": "markdown",
   "metadata": {},
   "source": [
    "# GET DRIVER"
   ]
  },
  {
   "cell_type": "code",
   "execution_count": 2,
   "metadata": {},
   "outputs": [
    {
     "name": "stdout",
     "output_type": "stream",
     "text": [
      "\n"
     ]
    },
    {
     "name": "stderr",
     "output_type": "stream",
     "text": [
      "[WDM] - ====== WebDriver manager ======\n",
      "[WDM] - Current google-chrome version is 103.0.5060\n",
      "[WDM] - Get LATEST chromedriver version for 103.0.5060 google-chrome\n",
      "[WDM] - About to download new driver from https://chromedriver.storage.googleapis.com/103.0.5060.53/chromedriver_win32.zip\n",
      "[WDM] - Driver has been saved in cache [C:\\Users\\modou\\.wdm\\drivers\\chromedriver\\win32\\103.0.5060.53]\n",
      "<ipython-input-2-c026f0c15647>:1: DeprecationWarning: executable_path has been deprecated, please pass in a Service object\n",
      "  driver = webdriver.Chrome(ChromeDriverManager().install())\n"
     ]
    }
   ],
   "source": [
    "driver = webdriver.Chrome(ChromeDriverManager().install())"
   ]
  },
  {
   "cell_type": "markdown",
   "metadata": {},
   "source": [
    "# DATA COLLECTION"
   ]
  },
  {
   "cell_type": "markdown",
   "metadata": {},
   "source": [
    "## Navigate to begining page"
   ]
  },
  {
   "cell_type": "code",
   "execution_count": 3,
   "metadata": {},
   "outputs": [],
   "source": [
    "page_url=\"https://coppermind.net/wiki/Category:Books\"\n",
    "driver.get(page_url)"
   ]
  },
  {
   "cell_type": "code",
   "execution_count": 4,
   "metadata": {},
   "outputs": [],
   "source": [
    "from selenium.webdriver.common.by import By\n",
    "\n",
    "driver.find_element(By.XPATH, '//button[text() =\"Proceed\"]').click()"
   ]
  },
  {
   "cell_type": "markdown",
   "metadata": {},
   "source": [
    "## Get Books"
   ]
  },
  {
   "cell_type": "markdown",
   "metadata": {},
   "source": [
    "### Get basic information on books{basic props}"
   ]
  },
  {
   "cell_type": "code",
   "execution_count": 5,
   "metadata": {},
   "outputs": [],
   "source": [
    "\n",
    "\n",
    "def makeBookObject() :\n",
    "        class baseObjectBook():\n",
    "            def ___init__(self,title,link,saga):\n",
    "                self.title = title\n",
    "                self.link = link \n",
    "                self.saga =saga\n",
    "           \n",
    "        return baseObjectBook;\n",
    "        \n",
    "o = makeBookObject()\n",
    "Books=[]\n",
    "x = driver.find_elements(By.CLASS_NAME, 'kv')\n",
    "for a in x:\n",
    "    y=a.find_elements(By.TAG_NAME,'td')\n",
    "    for b in y:\n",
    "        z = b.find_elements(By.TAG_NAME,'a')\n",
    "        for c in z:\n",
    "            o.saga =  a.find_element(By.TAG_NAME,'th').text\n",
    "            o.title = c.get_attribute('title') \n",
    "            o.link = c.get_attribute('href')\n",
    "            x = makeBookObject()\n",
    "            x=o\n",
    "            Books.append(o)\n",
    "            o = makeBookObject()\n",
    "            \n",
    "            "
   ]
  },
  {
   "cell_type": "markdown",
   "metadata": {},
   "source": [
    "### Get extended information on books{extend props}"
   ]
  },
  {
   "cell_type": "code",
   "execution_count": 6,
   "metadata": {},
   "outputs": [],
   "source": [
    "import numpy as np\n",
    "def makeBookObjectComplete() :\n",
    "        class baseObjectBookComplete():\n",
    "                def ___init__(self,title,link,saga,follows,precedes,setting,collaborators,released,publisher,isbn,pageCount,wordCount):\n",
    "                        self.title = title\n",
    "                        self.link = link \n",
    "                        self.saga =saga\n",
    "                        self.follows = follows\n",
    "                        self.precedes = precedes\n",
    "                        self.setting = setting[\"\"]\n",
    "                        self.collaborators = collaborators[\"\"]\n",
    "                        self.release = released\n",
    "                        self.publisher = publisher\n",
    "                        self.isbn = isbn        \n",
    "                        self.pageCount = pageCount \n",
    "                        self.wordCount = wordCount\n",
    "        return baseObjectBookComplete;\n",
    "\n",
    "data = []\n",
    "\n",
    "for bk in Books:\n",
    "        driver.get(bk.link)\n",
    "        bookComplete = makeBookObjectComplete()\n",
    "        y = driver.find_element(By.CLASS_NAME, 'infobox')\n",
    "        findOtherDetails = y.find_elements(By.CLASS_NAME, 'kv')\n",
    "        s= bk.title +\", \"+ bk.link + \", \"+bk.saga\n",
    "        for detail in findOtherDetails:\n",
    "               xx = detail.find_element(By.TAG_NAME, 'th')\n",
    "               yy = detail.find_elements(By.TAG_NAME, 'td')\n",
    "               i = 0\n",
    "               for ya in yy:\n",
    "                    s+=\", \" + ya.text.replace(\",\",\" \")\n",
    "        arr = s.split(\",\")\n",
    "        data.append(arr)\n",
    " "
   ]
  },
  {
   "cell_type": "markdown",
   "metadata": {},
   "source": [
    "### Write to file"
   ]
  },
  {
   "cell_type": "code",
   "execution_count": 7,
   "metadata": {},
   "outputs": [],
   "source": [
    "import csv\n",
    "\n",
    "header = [\"Title\",\"Saga\",\"Follows\",\"Precedes\",\"Setting\",\"Collaborators\",\"Released\",\"Publisher\",\"ISBN\",\"Page Count\",\"Word Count\"]\n",
    "\n",
    "with open('../stormlight_porject/data/books.csv', 'w', encoding='UTF8', newline='') as f:\n",
    "    writer = csv.writer(f)\n",
    "\n",
    "    # write the header\n",
    "    writer.writerow(header)\n",
    "    for book in data:\n",
    "        # write the data\n",
    "        writer.writerow(book)\n",
    "\n",
    " "
   ]
  },
  {
   "cell_type": "markdown",
   "metadata": {},
   "source": [
    "## Get Planets"
   ]
  },
  {
   "cell_type": "markdown",
   "metadata": {},
   "source": [
    "### Navigate to Page"
   ]
  },
  {
   "cell_type": "code",
   "execution_count": 8,
   "metadata": {},
   "outputs": [],
   "source": [
    "page_url=\"https://coppermind.net/wiki/Category:Locations\"\n",
    "driver.get(page_url)"
   ]
  },
  {
   "cell_type": "markdown",
   "metadata": {},
   "source": [
    "### Get Data"
   ]
  },
  {
   "cell_type": "code",
   "execution_count": null,
   "metadata": {},
   "outputs": [],
   "source": [
    "planetData = []\n",
    "tableHeaders = driver.find_elements(By.TAG_NAME,'th')\n",
    "for header in tableHeaders:\n",
    "    links = header.find_elements(By.TAG_NAME, 'a')\n",
    "    for link in links:\n",
    "        url = link.get_attribute('href')\n",
    "        locaton = link.get_attribute('title')\n",
    "        planetData.append(locaton + ' <-> '+ url)\n",
    "\n",
    "Planets = []\n",
    "for planet in planetData:\n",
    "    s  = planet.split(\"<->\")\n",
    "    this = s[1]\n",
    "    driver.get(this)\n",
    "    y = driver.find_element(By.CLASS_NAME, 'infobox')\n",
    "    findOtherDetails = y.find_elements(By.CLASS_NAME, 'kv')\n",
    "    row= s[0]\n",
    "    for detail in findOtherDetails:\n",
    "        xx = detail.find_element(By.TAG_NAME, 'th')\n",
    "        yy = detail.find_elements(By.TAG_NAME, 'td')\n",
    "        for ya in yy:\n",
    "            row+=\", \" + ya.text.replace(\",\",\"\")\n",
    "                \n",
    "    Planets.append(row)\n",
    "    print(row)\n",
    "#Planet,shard,perpendicularity,investiture,system,featured_in\n",
    "    "
   ]
  },
  {
   "cell_type": "markdown",
   "metadata": {},
   "source": [
    "### Write to file"
   ]
  },
  {
   "cell_type": "code",
   "execution_count": 27,
   "metadata": {},
   "outputs": [],
   "source": [
    "header = [\"planet\",\"shard\",\"perpendicularity\",\"investiture\",\"system\",\"featured_in\"]\n",
    "with open('../stormlight_porject/data/planets.csv', 'w', encoding='UTF8', newline='') as d: \n",
    "   writer = csv.writer(d)\n",
    "   writer.writerow(header)\n",
    "   for planet in Planets:\n",
    "        writer.writerow([planet])    "
   ]
  },
  {
   "cell_type": "markdown",
   "metadata": {},
   "source": [
    "## Get Shards"
   ]
  },
  {
   "cell_type": "markdown",
   "metadata": {},
   "source": [
    "### Navigate to page"
   ]
  },
  {
   "cell_type": "code",
   "execution_count": 31,
   "metadata": {},
   "outputs": [],
   "source": [
    "page_url=\"https://coppermind.net/wiki/Category:Shards\"\n",
    "driver.get(page_url)"
   ]
  },
  {
   "cell_type": "markdown",
   "metadata": {},
   "source": [
    "### Get Data"
   ]
  },
  {
   "cell_type": "code",
   "execution_count": null,
   "metadata": {},
   "outputs": [],
   "source": [
    "shardData = []\n",
    "sections = driver.find_elements(By.CLASS_NAME,'mw-category-group')\n",
    "for section in sections:\n",
    "    unOrderedList = section.find_elements(By.TAG_NAME, 'ul')\n",
    "    for list in unOrderedList:\n",
    "        links = list.find_elements(By.TAG_NAME,'a')\n",
    "        for link in links:\n",
    "            url = link.get_attribute('href')\n",
    "            shard = link.get_attribute('title')\n",
    "            shardData.append(shard + ' <-> '+ url)\n",
    "            \n",
    "Shards = []\n",
    "for shard in shardData:\n",
    "    s  = shard.split(\"<->\")\n",
    "    this = s[1]\n",
    "    driver.get(this)\n",
    "    y = driver.find_element(By.CLASS_NAME, 'infobox')\n",
    "    findOtherDetails = y.find_elements(By.CLASS_NAME, 'kv')\n",
    "    row= s[0]\n",
    "    for detail in findOtherDetails:\n",
    "        xx = detail.find_element(By.TAG_NAME, 'th')\n",
    "        yy = detail.find_elements(By.TAG_NAME, 'td')\n",
    "        for ya in yy:\n",
    "            row+=\", \" + ya.text.replace(\",\",\"\")\n",
    "            \n",
    "    Shards.append(row)\n",
    "    print(row)\n",
    "    # [\"shard\",\"vessel\",\"slivers\",\"Status\",\"Perpendicularity\",\"Magics\",\"Residence\",\"Universe\",feature_in]"
   ]
  },
  {
   "cell_type": "markdown",
   "metadata": {},
   "source": [
    "### Write to file"
   ]
  },
  {
   "cell_type": "code",
   "execution_count": 36,
   "metadata": {},
   "outputs": [],
   "source": [
    "header = [\"shard\",\"vessel\",\"slivers\",\"Status\",\"Perpendicularity\",\"Magics\",\"Residence\",\"Universe\",\"feature_in\"]\n",
    "with open('../stormlight_porject/data/shards.csv', 'w', encoding='UTF8', newline='') as d: \n",
    "   writer = csv.writer(d)\n",
    "   writer.writerow(header)\n",
    "   for shard in Shards:\n",
    "        writer.writerow([shard])  "
   ]
  },
  {
   "cell_type": "markdown",
   "metadata": {},
   "source": [
    " # DATA CLEAN AND IMPORT TO DB"
   ]
  },
  {
   "cell_type": "markdown",
   "metadata": {},
   "source": [
    "## General steps"
   ]
  },
  {
   "cell_type": "markdown",
   "metadata": {},
   "source": [
    "1. Make the necessary adjustments to the file\n",
    "2. Import the csv into a sql table => I'm using MS SQL Server\n",
    "3. Clean up data."
   ]
  },
  {
   "cell_type": "markdown",
   "metadata": {},
   "source": [
    "### Books"
   ]
  },
  {
   "cell_type": "code",
   "execution_count": null,
   "metadata": {
    "vscode": {
     "languageId": "sql"
    }
   },
   "outputs": [],
   "source": [
    "--First set of updates\n",
    "--Books.csv\n",
    "BEGIN TRAN\n",
    "\n",
    "        UPDATE booksImport SET saga = LTRIM(RTRIM(saga))\n",
    "\n",
    "        UPDATE booksImport SET Follows = LTRIM(RTRIM(Follows))\n",
    "\n",
    "        UPDATE booksImport SET Precedes = LTRIM(RTRIM(Precedes))\n",
    "\n",
    "        UPDATE booksImport SET Setting = LTRIM(RTRIM(Setting))\n",
    "\n",
    "        UPDATE booksImport SET Collaborators = LTRIM(RTRIM(Collaborators))\n",
    "\n",
    "        UPDATE booksImport SET Released = LTRIM(RTRIM(Released))\n",
    "\n",
    "        UPDATE booksImport SET Publisher = LTRIM(RTRIM(Publisher))\n",
    "\n",
    "        UPDATE booksImport SET ISBN = LTRIM(RTRIM(ISBN))\n",
    "--Second set\n",
    "        UPDATE booksImport SET saga = 'Stand Alone' where saga = 'S tand Alone'\n",
    "\n",
    "        UPDATE booksImport SET Publisher = 'Unknown' WHERE Publisher = 'Tachyon Publications'\n",
    "\n",
    "        UPDATE booksImport SET Publisher = 'Unknown' WHERE Publisher = ''\n",
    "--COMMIT TRAN\n",
    "--ROLLBACK TRAN\n"
   ]
  },
  {
   "cell_type": "markdown",
   "metadata": {},
   "source": [
    "### Planets"
   ]
  },
  {
   "cell_type": "code",
   "execution_count": null,
   "metadata": {
    "vscode": {
     "languageId": "sql"
    }
   },
   "outputs": [],
   "source": [
    "--First set of updates\n",
    "--Planets.csv\n",
    "BEGIN TRAN\n",
    "\n",
    "    UPDATE planetsimport SET [shard] = LTRIM(TRIM([shard]))\n",
    "\n",
    "    UPDATE planetsimport SET [perpendicularity] = LTRIM(TRIM([perpendicularity]))\n",
    "\n",
    "    UPDATE planetsimport SET [investiture] = LTRIM(TRIM([investiture]))\n",
    "\n",
    "    UPDATE planetsimport SET [system] = LTRIM(TRIM([system]))\n",
    "    \n",
    "    UPDATE planetsimport SET [featured_in] = LTRIM(TRIM([featured_in]))\n",
    "\n",
    "\n",
    "-- Second set of updates\n",
    "    UPDATE planetsimport SET featured_in = REPLACE(featured_in, '/', ',')\n",
    "\n",
    "    UPDATE planetsimport SET perpendicularity = REPLACE(perpendicularity, '/', ',')\n",
    "\n",
    "    UPDATE planetsimport SET investiture = REPLACE(investiture, '/', ',')\n",
    "\n",
    "--COMMIT TRAN\n",
    "--ROLLBACK TRAN"
   ]
  },
  {
   "cell_type": "markdown",
   "metadata": {},
   "source": [
    "### Shards"
   ]
  },
  {
   "cell_type": "code",
   "execution_count": null,
   "metadata": {
    "vscode": {
     "languageId": "sql"
    }
   },
   "outputs": [],
   "source": [
    "BEGIN TRAN\n",
    "--First set of updates\n",
    "--shards.csv\n",
    "    UPDATE shardsImport SET constituents = REPLACE(constituents,'/',',')\n",
    "    UPDATE shardsImport SET slivers = REPLACE(slivers,'/',',')\n",
    "    UPDATE shardsImport SET perpendicularity = REPLACE(perpendicularity,'/',',')\n",
    "    UPDATE shardsImport SET magics = REPLACE(magics,'/',',')\n",
    "    UPDATE shardsImport SET splinters = REPLACE(splinters,'/',',')\n",
    "\n",
    "--Second set of updates\n",
    "    UPDATE shardsImport SET  shard = LTRIM(RTRIM(shard))\n",
    "    UPDATE shardsImport SET  vessel = LTRIM(RTRIM(vessel))\n",
    "    UPDATE shardsImport SET  constituents= LTRIM(RTRIM(constituents))\n",
    "    UPDATE shardsImport SET  slivers= LTRIM(RTRIM(shard))\n",
    "    UPDATE shardsImport SET  splinters= LTRIM(RTRIM(splinters))\n",
    "    UPDATE shardsImport SET  [status]= LTRIM(RTRIM([status]))\n",
    "    UPDATE shardsImport SET  perpendicularity= LTRIM(RTRIM(perpendicularity))\n",
    "    UPDATE shardsImport SET  magics= LTRIM(RTRIM(magics))\n",
    "    UPDATE shardsImport SET  residence= LTRIM(RTRIM(residence))\n",
    "    UPDATE shardsImport SET  universe= LTRIM(RTRIM(universe))\n",
    "    UPDATE shardsImport SET  feature_in = LTRIM(RTRIM(feature_in))\n",
    "    UPDATE shardsImport SET  era= LTRIM(RTRIM(era))\n",
    "\n",
    "--COMMIT TRAN\n",
    "--ROLLBACK TRAN"
   ]
  },
  {
   "cell_type": "markdown",
   "metadata": {},
   "source": [
    "### Parse out required tables"
   ]
  },
  {
   "cell_type": "markdown",
   "metadata": {},
   "source": [
    "##### Book Titles"
   ]
  },
  {
   "cell_type": "code",
   "execution_count": null,
   "metadata": {
    "vscode": {
     "languageId": "sql"
    }
   },
   "outputs": [],
   "source": [
    "--From book.csv import\n",
    "BEGIN TRAN\n",
    "-- Create a new table called '[BookTitle]' in schema '[dbo]'\n",
    "-- Drop the table if it already exists\n",
    "IF OBJECT_ID('[dbo].[BookTitle]', 'U') IS NOT NULL\n",
    "DROP TABLE [dbo].[BookTitle]\n",
    "GO\n",
    "-- Create the table in the specified schema\n",
    "CREATE TABLE [dbo].[BookTitle]\n",
    "(\n",
    "    [Id] INT IDENTITY(1,1) NOT NULL PRIMARY KEY, -- Primary Key column\n",
    "    [NAME] NVARCHAR(300) NOT NULL,\n",
    ");\n",
    "GO\n",
    "-- Insert rows into table 'BookTitle' in schema '[dbo]'\n",
    "INSERT INTO BookTitle\n",
    "SELECT DISTINCT(Title) from booksimport\n",
    "\n",
    "--COMMIT TRAN\n",
    "--ROLLBACK TRAN"
   ]
  },
  {
   "cell_type": "markdown",
   "metadata": {},
   "source": [
    "#### Plublishers"
   ]
  },
  {
   "cell_type": "code",
   "execution_count": null,
   "metadata": {
    "vscode": {
     "languageId": "sql"
    }
   },
   "outputs": [],
   "source": [
    "BEGIN TRAN\n",
    "-- Create a new table called '[Publisher]' in schema '[dbo]'\n",
    "-- Drop the table if it already exists\n",
    "IF OBJECT_ID('[dbo].[Publisher]', 'U') IS NOT NULL\n",
    "DROP TABLE [dbo].[Publisher]\n",
    "GO\n",
    "-- Create the table in the specified schema\n",
    "CREATE TABLE [dbo].[Publisher]\n",
    "(\n",
    "    [Id] INT IDENTITY(1,1) NOT NULL PRIMARY KEY, -- Primary Key column\n",
    "    [NAME] NVARCHAR(200) NOT NULL,\n",
    ");\n",
    "GO\n",
    "-- Insert rows into table 'Publisher' in schema '[dbo]'\n",
    "INSERT INTO Publisher\n",
    "Select DISTINCT(Publisher) from booksImport\n",
    "\n",
    "--COMMIT TRAN\n",
    "--ROLLBACK TRAN"
   ]
  },
  {
   "cell_type": "markdown",
   "metadata": {},
   "source": [
    "#### Planets"
   ]
  },
  {
   "cell_type": "code",
   "execution_count": null,
   "metadata": {
    "vscode": {
     "languageId": "sql"
    }
   },
   "outputs": [],
   "source": [
    "--From planets.csv import\n",
    "BEGIN TRAN\n",
    "-- Create a new table called '[Planets]' in schema '[dbo]'\n",
    "-- Drop the table if it already exists\n",
    "IF OBJECT_ID('[dbo].[Planets]', 'U') IS NOT NULL\n",
    "DROP TABLE [dbo].[Planets]\n",
    "GO\n",
    "-- Create the table in the specified schema\n",
    "CREATE TABLE [dbo].[Planets]\n",
    "(\n",
    "    [Id] INT IDENTITY(1,1) NOT NULL PRIMARY KEY, -- Primary Key column\n",
    "    [NAME] NVARCHAR(100) NOT NULL,\n",
    "\n",
    "GO\n",
    "-- Insert rows into table 'Planets' in schema '[dbo]'\n",
    "INSERT INTO [dbo].[Planets]\n",
    "SELECT DISTINCT(planet)FROM (\n",
    "SELECT planet,VALUE FROM planetsimport CROSS APPLY STRING_SPLIT(perpendicularity, ',')\n",
    ") a\n",
    "--COMMIT TRAN\n",
    "--ROLLBACK TRAN"
   ]
  },
  {
   "cell_type": "markdown",
   "metadata": {},
   "source": [
    "#### Systems"
   ]
  },
  {
   "cell_type": "code",
   "execution_count": null,
   "metadata": {
    "vscode": {
     "languageId": "sql"
    }
   },
   "outputs": [],
   "source": [
    "--From books.csv import\n",
    "BEGIN TRAN\n",
    "-- Create a new table called '[Systems]' in schema '[dbo]'\n",
    "-- Drop the table if it already exists\n",
    "IF OBJECT_ID('[dbo].[Systems]', 'U') IS NOT NULL\n",
    "DROP TABLE [dbo].[Systems]\n",
    "GO\n",
    "-- Create the table in the specified schema\n",
    "CREATE TABLE [dbo].[Systems]\n",
    "(\n",
    "    [Id] INT IDENTITY(1,1) NOT NULL PRIMARY KEY, -- Primary Key column\n",
    "    [NAME] NVARCHAR(200) NOT NULL,\n",
    "\n",
    ");\n",
    "GO\n",
    "-- Insert rows into table 'Systems' in schema '[dbo]'\n",
    "INSERT INTO Systems\n",
    "SELECT Distinct([system]) from planetsimport\n",
    "\n",
    "--COMMIT TRAN\n",
    "--ROLLBACK TRAN\n"
   ]
  },
  {
   "cell_type": "markdown",
   "metadata": {},
   "source": [
    "##### Series"
   ]
  },
  {
   "cell_type": "code",
   "execution_count": null,
   "metadata": {
    "vscode": {
     "languageId": "sql"
    }
   },
   "outputs": [],
   "source": [
    "--From books.csv import\n",
    "BEGIN TRAN\n",
    "-- Create a new table called '[Series]' in schema '[dbo]'\n",
    "-- Drop the table if it already exists\n",
    "IF OBJECT_ID('[dbo].[Series]', 'U') IS NOT NULL\n",
    "DROP TABLE [dbo].[Series]\n",
    "GO\n",
    "-- Create the table in the specified schema\n",
    "CREATE TABLE [dbo].[Series]\n",
    "(\n",
    "    [Id] INT IDENTITY(1,1) NOT NULL PRIMARY KEY, -- Primary Key column\n",
    "    [NAME] NVARCHAR(300) NOT NULL,\n",
    ");\n",
    "GO\n",
    "-- Insert rows into table 'Series' in schema '[dbo]'\n",
    "INSERT INTO Series\n",
    "SELECT VALUE FROM planetsimport CROSS APPLY STRING_SPLIT(featured_in, ',')\n",
    "\n",
    "--COMMIT TRAN\n",
    "--ROLLBACK TRAN"
   ]
  },
  {
   "cell_type": "markdown",
   "metadata": {},
   "source": [
    "#### Investiture"
   ]
  },
  {
   "cell_type": "code",
   "execution_count": null,
   "metadata": {
    "vscode": {
     "languageId": "sql"
    }
   },
   "outputs": [],
   "source": [
    "BEGIN TRAN\n",
    "-- Create a new table called '[Investiture]' in schema '[dbo]'\n",
    "-- Drop the table if it already exists\n",
    "IF OBJECT_ID('[dbo].[Investiture]', 'U') IS NOT NULL\n",
    "DROP TABLE [dbo].[Investiture]\n",
    "GO\n",
    "-- Create the table in the specified schema\n",
    "CREATE TABLE [dbo].[Investiture]\n",
    "(\n",
    "    [Id] INT IDENTITY(1,1) NOT NULL PRIMARY KEY, -- Primary Key column\n",
    "    [NAME] NVARCHAR(100) NOT NULL,\n",
    "\n",
    ");\n",
    "GO\n",
    "-- Insert rows into table 'Investiture' in schema '[dbo]'\n",
    "INSERT INTO Investiture\n",
    "SELECT VALUE FROM planetsimport CROSS APPLY STRING_SPLIT(investiture, ',')\n",
    "--COMMIT TRAN\n",
    "--ROLLBACK TRAN"
   ]
  },
  {
   "cell_type": "markdown",
   "metadata": {},
   "source": [
    "#### Perpendicularity"
   ]
  },
  {
   "cell_type": "code",
   "execution_count": null,
   "metadata": {
    "vscode": {
     "languageId": "sql"
    }
   },
   "outputs": [],
   "source": [
    "BEGIN TRAN\n",
    "-- Create a new table called '[Perpendicularity]' in schema '[dbo]'\n",
    "-- Drop the table if it already exists\n",
    "IF OBJECT_ID('[dbo].[Perpendicularity]', 'U') IS NOT NULL\n",
    "DROP TABLE [dbo].[Perpendicularity]\n",
    "GO\n",
    "-- Create the table in the specified schema\n",
    "CREATE TABLE [dbo].[Perpendicularity]\n",
    "(\n",
    "    [Id] INT IDENTITY NOT NULL PRIMARY KEY, -- Primary Key column\n",
    "    [NAME] NVARCHAR(200) NOT NULL,\n",
    "    [PLANET] NVARCHAR(50) NOT NULL\n",
    "    -- Specify more columns here\n",
    ");\n",
    "GO\n",
    "-- Insert rows into table 'perpendicularity' in schema '[dbo]'\n",
    "INSERT INTO Perpendicularity\n",
    "SELECT VALUE,planet FROM planetsimport CROSS APPLY STRING_SPLIT(perpendicularity, ',')\n",
    "\n",
    "--COMMIT TRAN\n",
    "--ROLLBACK TRAN"
   ]
  },
  {
   "cell_type": "markdown",
   "metadata": {},
   "source": [
    "#### Constituents"
   ]
  },
  {
   "cell_type": "code",
   "execution_count": null,
   "metadata": {
    "vscode": {
     "languageId": "sql"
    }
   },
   "outputs": [],
   "source": [
    "BEGIN TRAN\n",
    "-- Create a new table called '[Constituents]' in schema '[dbo]'\n",
    "-- Drop the table if it already exists\n",
    "IF OBJECT_ID('[dbo].[Constituents]', 'U') IS NOT NULL\n",
    "DROP TABLE [dbo].[Constituents]\n",
    "GO\n",
    "-- Create the table in the specified schema\n",
    "CREATE TABLE [dbo].[Constituents]\n",
    "(\n",
    "    [Id] INT IDENTITY(1,1) NOT NULL PRIMARY KEY, -- Primary Key column\n",
    "    [NAME] NVARCHAR(50) NOT NULL\n",
    ");\n",
    "GO\n",
    "-- Insert rows into table 'Publisher' in schema '[dbo]'\n",
    "INSERT INTO Constituents\n",
    "SELECT DISTINCT(VALUE) 'constituents' FROM shardsImport CROSS APPLY STRING_SPLIT(constituents, ',')\n",
    "\n",
    "--COMMIT TRAN\n",
    "--ROLLBACK TRAN"
   ]
  },
  {
   "cell_type": "markdown",
   "metadata": {},
   "source": [
    "#### Splinters"
   ]
  },
  {
   "cell_type": "code",
   "execution_count": null,
   "metadata": {
    "vscode": {
     "languageId": "sql"
    }
   },
   "outputs": [],
   "source": [
    "BEGIN TRAN\n",
    "-- Create a new table called '[Splinters]' in schema '[dbo]'\n",
    "-- Drop the table if it already exists\n",
    "IF OBJECT_ID('[dbo].[Splinters]', 'U') IS NOT NULL\n",
    "DROP TABLE [dbo].[Splinters]\n",
    "GO\n",
    "-- Create the table in the specified schema\n",
    "CREATE TABLE [dbo].[Splinters]\n",
    "(\n",
    "    [Id] INT IDENTITY(1,1) NOT NULL PRIMARY KEY, -- Primary Key column\n",
    "    [NAME] NVARCHAR(50) NOT NULL,\n",
    "    [SHARD] NVARCHAR(100) NOT NULL\n",
    ");\n",
    "GO\n",
    "-- Insert rows into table 'Publisher' in schema '[dbo]'\n",
    "INSERT INTO Splinters\n",
    "SELECT VALUE 'splinters',shard FROM shardsImport CROSS APPLY STRING_SPLIT(splinters, ',')\n",
    "\n",
    "--COMMIT TRAN\n",
    "--ROLLBACK TRAN\n"
   ]
  },
  {
   "cell_type": "markdown",
   "metadata": {},
   "source": [
    "#### Magics"
   ]
  },
  {
   "cell_type": "code",
   "execution_count": null,
   "metadata": {
    "vscode": {
     "languageId": "sql"
    }
   },
   "outputs": [],
   "source": [
    "BEGIN TRAN\n",
    "-- Create a new table called '[Magics]' in schema '[dbo]'\n",
    "-- Drop the table if it already exists\n",
    "IF OBJECT_ID('[dbo].[Magics]', 'U') IS NOT NULL\n",
    "DROP TABLE [dbo].[Magics]\n",
    "GO\n",
    "-- Create the table in the specified schema\n",
    "CREATE TABLE [dbo].[Magics]\n",
    "(\n",
    "    [Id] INT IDENTITY(1,1) NOT NULL PRIMARY KEY, -- Primary Key column\n",
    "    [NAME] NVARCHAR(50) NOT NULL,\n",
    "    [SHARD] NVARCHAR(100) NOT NULL\n",
    ");\n",
    "GO\n",
    "-- Insert rows into table 'Magics' in schema '[dbo]'\n",
    "INSERT INTO Magics\n",
    "SELECT VALUE 'magics',shard FROM shardsImport CROSS APPLY STRING_SPLIT(magics, ',')\n",
    "\n",
    "--COMMIT TRAN\n",
    "--ROLLBACK TRAN"
   ]
  },
  {
   "cell_type": "markdown",
   "metadata": {},
   "source": [
    "#### Era"
   ]
  },
  {
   "cell_type": "code",
   "execution_count": null,
   "metadata": {
    "vscode": {
     "languageId": "sql"
    }
   },
   "outputs": [],
   "source": [
    "BEGIN TRAN\n",
    "-- Create a new table called '[Era]' in schema '[dbo]'\n",
    "-- Drop the table if it already exists\n",
    "IF OBJECT_ID('[dbo].[Era]', 'U') IS NOT NULL\n",
    "DROP TABLE [dbo].[Era]\n",
    "GO\n",
    "-- Create the table in the specified schema\n",
    "CREATE TABLE [dbo].[Era]\n",
    "(\n",
    "    [Id] INT IDENTITY(1,1) NOT NULL PRIMARY KEY, -- Primary Key column\n",
    "    [NAME] NVARCHAR(50) NOT NULL,\n",
    "    [SHARD] NVARCHAR(100) NOT NULL\n",
    ");\n",
    "GO\n",
    "-- Insert rows into table 'Era' in schema '[dbo]'\n",
    "INSERT INTO Era\n",
    "SELECT VALUE 'era',shard FROM shardsImport CROSS APPLY STRING_SPLIT(era, ',')\n",
    "\n",
    "--COMMIT TRAN\n",
    "--ROLLBACK TRAN"
   ]
  }
 ],
 "metadata": {
  "kernelspec": {
   "display_name": "Python 3.8.3 32-bit",
   "language": "python",
   "name": "python3"
  },
  "language_info": {
   "codemirror_mode": {
    "name": "ipython",
    "version": 3
   },
   "file_extension": ".py",
   "mimetype": "text/x-python",
   "name": "python",
   "nbconvert_exporter": "python",
   "pygments_lexer": "ipython3",
   "version": "3.8.3"
  },
  "vscode": {
   "interpreter": {
    "hash": "cb858e472e5875de738cdde6dca94d6b367c87f760ad3d16195c588ba9edb082"
   }
  }
 },
 "nbformat": 4,
 "nbformat_minor": 4
}
