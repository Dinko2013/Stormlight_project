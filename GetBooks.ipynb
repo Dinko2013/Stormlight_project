{
 "cells": [
  {
   "cell_type": "code",
   "execution_count": 1,
   "metadata": {},
   "outputs": [],
   "source": [
    "import pandas as  pd\n",
    "from selenium import webdriver\n",
    "from webdriver_manager.chrome import ChromeDriverManager\n"
   ]
  },
  {
   "cell_type": "markdown",
   "metadata": {},
   "source": [
    "GET Drivers"
   ]
  },
  {
   "cell_type": "code",
   "execution_count": 2,
   "metadata": {},
   "outputs": [
    {
     "name": "stdout",
     "output_type": "stream",
     "text": [
      "\n"
     ]
    },
    {
     "name": "stderr",
     "output_type": "stream",
     "text": [
      "[WDM] - ====== WebDriver manager ======\n",
      "[WDM] - Current google-chrome version is 102.0.5005\n",
      "[WDM] - Get LATEST chromedriver version for 102.0.5005 google-chrome\n",
      "[WDM] - About to download new driver from https://chromedriver.storage.googleapis.com/102.0.5005.61/chromedriver_win32.zip\n",
      "[WDM] - Driver has been saved in cache [C:\\Users\\modou\\.wdm\\drivers\\chromedriver\\win32\\102.0.5005.61]\n",
      "<ipython-input-2-c026f0c15647>:1: DeprecationWarning: executable_path has been deprecated, please pass in a Service object\n",
      "  driver = webdriver.Chrome(ChromeDriverManager().install())\n"
     ]
    }
   ],
   "source": [
    "driver = webdriver.Chrome(ChromeDriverManager().install())"
   ]
  },
  {
   "cell_type": "code",
   "execution_count": 3,
   "metadata": {},
   "outputs": [],
   "source": [
    "page_url=\"https://coppermind.net/wiki/Category:Books\"\n",
    "driver.get(page_url)"
   ]
  },
  {
   "cell_type": "code",
   "execution_count": 4,
   "metadata": {},
   "outputs": [],
   "source": [
    "from selenium.webdriver.common.by import By\n",
    "\n",
    "driver.find_element(By.XPATH, '//button[text() =\"Proceed\"]').click()"
   ]
  },
  {
   "cell_type": "markdown",
   "metadata": {},
   "source": [
    "Get book series"
   ]
  },
  {
   "cell_type": "code",
   "execution_count": 5,
   "metadata": {},
   "outputs": [],
   "source": [
    "def makeBookObject() :\n",
    "        class baseObjectBook():\n",
    "            def ___init__(self,title,link,saga):\n",
    "                self.title = title\n",
    "                self.link = link \n",
    "                self.saga =saga\n",
    "           \n",
    "        return baseObjectBook;\n",
    "        \n",
    "o = makeBookObject()\n",
    "Books=[]\n",
    "x = driver.find_elements(By.CLASS_NAME, 'kv')\n",
    "for a in x:\n",
    "    y=a.find_elements(By.TAG_NAME,'td')\n",
    "    for b in y:\n",
    "        z = b.find_elements(By.TAG_NAME,'a')\n",
    "        for c in z:\n",
    "            o.saga =  a.find_element(By.TAG_NAME,'th').text\n",
    "            o.title = c.get_attribute('title') \n",
    "            o.link = c.get_attribute('href')\n",
    "            x = makeBookObject()\n",
    "            x=o\n",
    "            Books.append(o)\n",
    "            o = makeBookObject()"
   ]
  },
  {
   "cell_type": "code",
   "execution_count": 31,
   "metadata": {},
   "outputs": [
    {
     "name": "stdout",
     "output_type": "stream",
     "text": [
      "['Title<->The Way of Kings', 'Link<->https://coppermind.net/wiki/The_Way_of_Kings', 'Saga<->The Stormlight Archive', ' Precedes<->Words of Radiance', ' Setting<->Roshar   Cosmere', ' Released<->August 31   2010', ' Publisher<->Tor Books', ' ISBN<->978-0765326355', ' Page Count<->1  008', ' Word Count<->384  265']\n",
      "['Title<->Words of Radiance', 'Link<->https://coppermind.net/wiki/Words_of_Radiance', 'Saga<->The Stormlight Archive', ' Follows<->The Way of Kings', ' Precedes<->Oathbringer', ' Setting<->Roshar   Cosmere', ' Released<->March 4   2014', ' Publisher<->Tor Books', ' ISBN<->978-0765326362', ' Page Count<->1  088', ' Word Count<->398  238']\n",
      "['Title<->Oathbringer', 'Link<->https://coppermind.net/wiki/Oathbringer', 'Saga<->The Stormlight Archive', ' Follows<->Words of Radiance', ' Precedes<->Rhythm of War', ' Setting<->Roshar   Cosmere', ' Released<->November 14   2017', ' Publisher<->Tor Books', ' ISBN<->978-0765326379', ' Page Count<->1  220', ' Word Count<->458  045']\n",
      "['Title<->Rhythm of War', 'Link<->https://coppermind.net/wiki/Rhythm_of_War', 'Saga<->The Stormlight Archive', ' Follows<->Oathbringer', ' Precedes<->Stormlight Archive 5', ' Setting<->Roshar   Cosmere', ' Released<->November 17   2020', ' Publisher<->Tor Books   Gollancz', ' Word Count<->455  891']\n",
      "['Title<->Edgedancer (novella)', 'Link<->https://coppermind.net/wiki/Edgedancer_(novella)', 'Saga<->The Stormlight Archive', ' Follows<->Words of Radiance', ' Precedes<->Oathbringer', ' Setting<->Roshar   Cosmere', ' Released<->November 22   2016', ' Page Count<->272', ' Word Count<->51  324']\n",
      "['Title<->Dawnshard (novella)', 'Link<->https://coppermind.net/wiki/Dawnshard_(novella)', 'Saga<->The Stormlight Archive', ' Follows<->Oathbringer', ' Precedes<->Rhythm of War', ' Setting<->Roshar   Cosmere', ' Released<->November 5   2020 (ebook)   February 15   2022 (print)', ' Publisher<->Dragonsteel Entertainment', ' Page Count<->269', ' Word Count<->56  282']\n",
      "['Title<->Mistborn Era 1', 'Link<->https://coppermind.net/wiki/Mistborn_Era_1', 'Saga<->Mistborn']\n",
      "['Title<->Mistborn: The Final Empire', 'Link<->https://coppermind.net/wiki/Mistborn:_The_Final_Empire', 'Saga<->Mistborn', ' Precedes<->The Well of Ascension', ' Setting<->Scadrial   Cosmere', ' Released<->July 17   2006', ' Publisher<->Tor books', ' ISBN<->ISBN 0-7653-1178-X', ' Word Count<->210  103', ' Annotations<->Portal']\n",
      "['Title<->The Well of Ascension', 'Link<->https://coppermind.net/wiki/The_Well_of_Ascension', 'Saga<->Mistborn', ' Follows<->Mistborn: The Final Empire', ' Precedes<->The Hero of Ages', ' Setting<->Scadrial   Cosmere', ' Released<->August 21   2007[1]', ' Publisher<->Tor Books', ' ISBN<->978-0-7653-1688-2', ' Annotations<->Portal']\n",
      "['Title<->The Hero of Ages', 'Link<->https://coppermind.net/wiki/The_Hero_of_Ages', 'Saga<->Mistborn', ' Follows<->The Well of Ascension', ' Precedes<->The Alloy of Law', ' Setting<->Scadrial   Cosmere', ' Released<->October 14   2008', ' Publisher<->Tor books', ' ISBN<->978-0-7653-1689-7', ' Annotations<->Portal']\n",
      "['Title<->Mistborn Era 2', 'Link<->https://coppermind.net/wiki/Mistborn_Era_2', 'Saga<->Mistborn']\n",
      "['Title<->The Alloy of Law', 'Link<->https://coppermind.net/wiki/The_Alloy_of_Law', 'Saga<->Mistborn', ' Follows<->The Hero of Ages', ' Precedes<->Shadows of Self', ' Setting<->Scadrial   Cosmere', ' Released<->November 8   2011', ' Publisher<->Tor books', ' ISBN<->978-0-7653-3042-0']\n",
      "['Title<->Shadows of Self', 'Link<->https://coppermind.net/wiki/Shadows_of_Self', 'Saga<->Mistborn', ' Follows<->The Alloy of Law', ' Precedes<->The Bands of Mourning', ' Setting<->Scadrial   Cosmere', ' Released<->October 6   2015[1]', ' Publisher<->Tor Books']\n",
      "['Title<->The Bands of Mourning', 'Link<->https://coppermind.net/wiki/The_Bands_of_Mourning', 'Saga<->Mistborn', ' Follows<->Shadows of Self', ' Precedes<->The Lost Metal', ' Setting<->Scadrial   Cosmere', ' Released<->January 26   2016', ' Publisher<->Tor Books']\n",
      "['Title<->Mistborn: Secret History', 'Link<->https://coppermind.net/wiki/Mistborn:_Secret_History', 'Saga<->Mistborn', ' Setting<->Scadrial   Cosmere', ' Released<->January 26   2016', ' Word Count<->44  981']\n",
      "['Title<->The Eleventh Metal', 'Link<->https://coppermind.net/wiki/The_Eleventh_Metal', 'Saga<->Mistborn', ' Precedes<->The Final Empire', ' Setting<->Scadrial   Cosmere', ' Released<->December 15   2011', ' Publisher<->Crafty Games', ' Word Count<->6  713']\n",
      "['Title<->Allomancer Jak and the Pits of Eltania', 'Link<->https://coppermind.net/wiki/Allomancer_Jak_and_the_Pits_of_Eltania', 'Saga<->Mistborn', ' Setting<->Scadrial   Cosmere', ' Released<->August 7   2014', ' Publisher<->Crafty Games', ' Word Count<->7  047']\n",
      "['Title<->White Sand Volume 1', 'Link<->https://coppermind.net/wiki/White_Sand_Volume_1', 'Saga<->White Sand', ' Precedes<->White Sand Volume 2', ' Setting<->Taldain   Cosmere', ' Collaborators<->Rik Hoskin   Julius Gopez', ' Released<->June 28   2016', ' Publisher<->Dynamite Entertainment', ' ISBN<->1606908855']\n",
      "['Title<->White Sand Volume 2', 'Link<->https://coppermind.net/wiki/White_Sand_Volume_2', 'Saga<->White Sand', ' Follows<->White Sand Volume 1', ' Precedes<->White Sand Volume 3', ' Setting<->Taldain   Cosmere', ' Collaborators<->Rik Hoskin   Julius Gopez   Julius Ohta', ' Released<->February 20   2018', ' Publisher<->Dynamite Entertainment', ' ISBN<->152410342X']\n",
      "['Title<->White Sand Volume 3', 'Link<->https://coppermind.net/wiki/White_Sand_Volume_3', 'Saga<->White Sand', ' Follows<->White Sand Volume 2', ' Setting<->Taldain   Cosmere', ' Collaborators<->Rik Hoskin   Fritz Casas', ' Released<->October 1   2019', ' Publisher<->Dynamite Entertainment', ' ISBN<->152411006X']\n",
      "['Title<->Elantris (book)', 'Link<->https://coppermind.net/wiki/Elantris_(book)', 'Saga<->Other Cosmere Works', ' Precedes<->Eventual sequel', ' Setting<->Sel   Cosmere', ' Released<->April 21   2005', ' Publisher<->Tor books', ' ISBN<->0-7653-8310-1', ' Page Count<->592', ' Word Count<->201  372']\n",
      "['Title<->Warbreaker', 'Link<->https://coppermind.net/wiki/Warbreaker', 'Saga<->Other Cosmere Works', ' Setting<->Nalthis   Cosmere', ' Released<->June 9   2009', ' Publisher<->Tor', ' ISBN<->0-7653-2030-4', ' Page Count<->592', ' Word Count<->196  014']\n",
      "['Title<->Arcanum Unbounded', 'Link<->https://coppermind.net/wiki/Arcanum_Unbounded', 'Saga<->Other Cosmere Works', ' Setting<->Cosmere', ' Released<->November 22   2016']\n",
      "['Title<->The Hope of Elantris', 'Link<->https://coppermind.net/wiki/The_Hope_of_Elantris', 'Saga<->Other Cosmere Works', ' Follows<->Elantris', ' Setting<->Sel   Cosmere', ' Released<->January 2006', ' Word Count<->6  030']\n",
      "[\"Title<->The Emperor's Soul\", 'Link<->https://coppermind.net/wiki/The_Emperor%27s_Soul', 'Saga<->Other Cosmere Works', ' Setting<->Sel   Cosmere', ' Released<->November 1   2012', ' Publisher<->Tachyon Publications', ' ISBN<->9781616960926', ' Word Count<->31  925']\n",
      "['Title<->Shadows for Silence in the Forests of Hell', 'Link<->https://coppermind.net/wiki/Shadows_for_Silence_in_the_Forests_of_Hell', 'Saga<->Other Cosmere Works', ' Setting<->Threnody   Cosmere', ' Released<->December 3   2013', ' Publisher<->Tor books', ' ISBN<->978-0765332066', ' Word Count<->17  647']\n",
      "['Title<->Sixth of the Dusk', 'Link<->https://coppermind.net/wiki/Sixth_of_the_Dusk', 'Saga<->Other Cosmere Works', ' Setting<->First of the Sun   Cosmere', ' Released<->June 30   2014', ' Publisher<->Dragonsteel Entertainment', ' ISBN<->ISBN 978-1-938570-07-0', ' Word Count<->17  794']\n",
      "['Title<->Alcatraz Versus the Evil Librarians (book)', 'Link<->https://coppermind.net/wiki/Alcatraz_Versus_the_Evil_Librarians_(book)', 'Saga<->Alcatraz Versus\\nthe Evil Librarians', \" Precedes<->The Scrivener's Bones\", ' Released<->October 1   2007 (Scholastic)  \\nFebruary 16   2016 (Tor)', ' Publisher<->Tor books', ' ISBN<->ISBN 978-0-7653-7894-1', ' Word Count<->58  233']\n",
      "[\"Title<->The Scrivener's Bones\", 'Link<->https://coppermind.net/wiki/The_Scrivener%27s_Bones', 'Saga<->Alcatraz Versus\\nthe Evil Librarians', ' Follows<->Alcatraz Versus the Evil Librarians', ' Precedes<->The Knights of Crystallia', ' Released<->November 1   2008 (Scholastic)  \\nFebruary 16   2016 (Tor)', ' Publisher<->Tor books', ' ISBN<->978-0-7653-7896-5', ' Word Count<->59  500']\n",
      "['Title<->The Knights of Crystallia', 'Link<->https://coppermind.net/wiki/The_Knights_of_Crystallia', 'Saga<->Alcatraz Versus\\nthe Evil Librarians', \" Follows<->The Scrivener's Bones\", ' Precedes<->The Shattered Lens', ' Released<->October 2009 (Scholastic)  \\nApril 19   2016 (Tor)', ' Publisher<->Tor books', ' ISBN<->ISBN 978-0-7653-7898-9', ' Word Count<->57  955']\n",
      "['Title<->The Shattered Lens', 'Link<->https://coppermind.net/wiki/The_Shattered_Lens', 'Saga<->Alcatraz Versus\\nthe Evil Librarians', ' Follows<->The Knights of Crystallia', ' Precedes<->The Dark Talent', ' Released<->December 2010 (Scholastic)  \\nJuly 19   2016 (Tor)', ' Publisher<->Tor books', ' ISBN<->ISBN 978-0-7653-7900-9', ' Word Count<->53  643']\n",
      "['Title<->The Dark Talent', 'Link<->https://coppermind.net/wiki/The_Dark_Talent', 'Saga<->Alcatraz Versus\\nthe Evil Librarians', ' Follows<->The Shattered Lens', ' Precedes<->Bastille Versus the Evil Librarians', ' Released<->September 6   2016', ' Publisher<->Tor books', ' ISBN<->ISBN 978-0-7653-8140-8', ' Word Count<->47  958']\n",
      "['Title<->Steelheart', 'Link<->https://coppermind.net/wiki/Steelheart', 'Saga<->The Reckoners', ' Precedes<->Firefight', ' Setting<->Newcago   Alternate Earth', ' Released<->September 24   2013', ' Publisher<->Gollancz', ' Word Count<->107  944']\n",
      "['Title<->Firefight', 'Link<->https://coppermind.net/wiki/Firefight', 'Saga<->The Reckoners', ' Follows<->Steelheart', ' Precedes<->Calamity', ' Setting<->Babylon Restored   Alternate Earth', ' Released<->January 6   2015', ' Word Count<->104  132']\n",
      "['Title<->Calamity', 'Link<->https://coppermind.net/wiki/Calamity', 'Saga<->The Reckoners', ' Follows<->Firefight', ' Setting<->Ildithia   Alternate Earth', ' Released<->February 16   2016[1]', ' Word Count<->103  055']\n",
      "['Title<->Lux (book)', 'Link<->https://coppermind.net/wiki/Lux_(book)', 'Saga<->The Reckoners', ' Setting<->Earth (Reckoners)', ' Collaborators<->Steven Michael Bohls', ' Released<->July 22   2021', ' Publisher<->Audible.com']\n",
      "['Title<->Mitosis', 'Link<->https://coppermind.net/wiki/Mitosis', 'Saga<->The Reckoners', ' Follows<->Steelheart', ' Precedes<->Firefight', ' Setting<->Newcago   Alternate Earth', ' Released<->December 3   2013', ' Word Count<->8  825']\n",
      "['Title<->Legion (book)', 'Link<->https://coppermind.net/wiki/Legion_(book)', 'Saga<->Legion', ' Precedes<->Skin Deep', ' Released<->September 11   2012', ' Publisher<->Dragonsteel Entertainment', ' ISBN<->978-1596064850', ' Word Count<->18  081']\n",
      "['Title<->Legion: Skin Deep', 'Link<->https://coppermind.net/wiki/Legion:_Skin_Deep', 'Saga<->Legion', ' Follows<->Legion (book)', ' Precedes<->Lies of the Beholder', ' Released<->November 30   2014', ' Publisher<->Dragonsteel Entertainment', ' ISBN<->978-1596066908', ' Word Count<->37  268']\n",
      "['Title<->Legion: Lies of the Beholder', 'Link<->https://coppermind.net/wiki/Legion:_Lies_of_the_Beholder', 'Saga<->Legion', ' Follows<->Skin Deep', ' Released<->September 18   2018', ' Publisher<->Tor books']\n",
      "['Title<->Legion: The Many Lives of Stephen Leeds', 'Link<->https://coppermind.net/wiki/Legion:_The_Many_Lives_of_Stephen_Leeds', 'Saga<->Legion', ' Released<->September 18   2018', ' Publisher<->Tor books']\n",
      "['Title<->Skyward', 'Link<->https://coppermind.net/wiki/Skyward', 'Saga<->Cytoverse', ' Precedes<->Starsight', ' Setting<->Cytoverse', ' Released<->November 6   2018', ' Publisher<->Delacorte Press']\n",
      "['Title<->Starsight', 'Link<->https://coppermind.net/wiki/Starsight', 'Saga<->Cytoverse', ' Follows<->Skyward', ' Precedes<->Cytonic', ' Setting<->Cytoverse', ' Released<->November 26   2019']\n",
      "['Title<->Cytonic (book)', 'Link<->https://coppermind.net/wiki/Cytonic_(book)', 'Saga<->Cytoverse', ' Follows<->Starsight', ' Precedes<->Defiant', ' Setting<->Cytoverse', ' Released<->November 23   2021[1]']\n",
      "['Title<->Defending Elysium', 'Link<->https://coppermind.net/wiki/Defending_Elysium', 'Saga<->Cytoverse', ' Setting<->Cytoverse', ' Released<->Holiday 2009', ' Word Count<->14  584', ' Annotation<->here']\n",
      "['Title<->Sunreach', 'Link<->https://coppermind.net/wiki/Sunreach', 'Saga<->Cytoverse', ' Follows<->Starsight', ' Precedes<->ReDawn', ' Setting<->Cytoverse', ' Collaborators<->Janci Patterson', ' Released<->September 28   2021[1]', ' Word Count<->48  622']\n",
      "['Title<->ReDawn (novella)', 'Link<->https://coppermind.net/wiki/ReDawn_(novella)', 'Saga<->Cytoverse', ' Follows<->Sunreach', ' Precedes<->Evershore', ' Setting<->Cytoverse', ' Collaborators<->Janci Patterson', ' Released<->October 26   2021[1]']\n",
      "['Title<->Evershore (novella)', 'Link<->https://coppermind.net/wiki/Evershore_(novella)', 'Saga<->Cytoverse', ' Follows<->ReDawn', ' Precedes<->Cytonic', ' Setting<->Cytoverse', ' Collaborators<->Janci Patterson', ' Released<->December 28   2021[1]']\n",
      "['Title<->The Gathering Storm', 'Link<->https://coppermind.net/wiki/The_Gathering_Storm', 'Saga<->The Wheel of Time', ' Follows<->Knife of Dreams', ' Precedes<->Towers of Midnight', ' Collaborators<->Robert Jordan', ' Released<->October 27   2009', ' Publisher<->Tor books', ' ISBN<->0-7653-0230-6']\n",
      "['Title<->Towers of Midnight', 'Link<->https://coppermind.net/wiki/Towers_of_Midnight', 'Saga<->The Wheel of Time', ' Follows<->The Gathering Storm', ' Precedes<->A Memory of Light', ' Collaborators<->Robert Jordan', ' Released<->November 2   2010', ' Publisher<->Tor books', ' ISBN<->978-0-7653-2594-5']\n",
      "['Title<->A Memory of Light', 'Link<->https://coppermind.net/wiki/A_Memory_of_Light', 'Saga<->The Wheel of Time', ' Follows<->Towers of Midnight', ' Collaborators<->Robert Jordan', ' Released<->January 8   2013', ' Publisher<->Tor books']\n",
      "['Title<->River of Souls', 'Link<->https://coppermind.net/wiki/River_of_Souls', 'Saga<->The Wheel of Time', ' Collaborators<->Robert Jordan', ' Released<->Early 2013', ' Publisher<->Grim Oak Press', ' ISBN<->9780984713639']\n",
      "['Title<->Infinity Blade: Awakening', 'Link<->https://coppermind.net/wiki/Infinity_Blade:_Awakening', 'Saga<->Infinity Blade', ' Precedes<->Infinity Blade: Redemption', ' Released<->October 4   2011', ' Publisher<->Epic Games']\n",
      "['Title<->Infinity Blade: Redemption', 'Link<->https://coppermind.net/wiki/Infinity_Blade:_Redemption', 'Saga<->Infinity Blade', ' Follows<->Infinity Blade: Awakening', ' Released<->September 3   2013', ' Publisher<->Epic Games']\n",
      "['Title<->Firstborn', 'Link<->https://coppermind.net/wiki/Firstborn', 'Saga<->Other Stories', ' Setting<->Standalone', ' Released<->December 17   2008', ' Publisher<->Tor Books', ' Word Count<->13  928']\n",
      "['Title<->I Hate Dragons', 'Link<->https://coppermind.net/wiki/I_Hate_Dragons', 'Saga<->Other Stories', ' Released<->December 2011', ' Word Count<->2  015']\n",
      "['Title<->Heuristic Algorithm and Reasoning Response Engine', 'Link<->https://coppermind.net/wiki/Heuristic_Algorithm_and_Reasoning_Response_Engine', 'Saga<->Other Stories', ' Setting<->Standalone', ' Collaborators<->Ethan Skarstedt', ' Released<->March 27   2012', ' Publisher<->Baen Books', ' ISBN<->978-1451638172', ' Word Count<->8  869']\n",
      "['Title<->The Rithmatist', 'Link<->https://coppermind.net/wiki/The_Rithmatist', 'Saga<->Other Stories', ' Precedes<->The Aztlanian', ' Setting<->United Isles of America   Alternate Earth', ' Released<->May 14   2013', ' Publisher<->Tor books', ' ISBN<->978-0-7653-3844-0', ' Word Count<->87  683']\n",
      "['Title<->Dreamer', 'Link<->https://coppermind.net/wiki/Dreamer', 'Saga<->Other Stories', ' Setting<->Standalone', ' Released<->April 1   2014', ' Publisher<->Ace Books', ' ISBN<->978-0425256879', ' Word Count<->4  323']\n",
      "['Title<->Perfect State', 'Link<->https://coppermind.net/wiki/Perfect_State', 'Saga<->Other Stories', ' Setting<->Standalone', ' Released<->March 31   2015', ' Publisher<->Dragonsteel Entertainment', ' Word Count<->17  348']\n",
      "['Title<->Snapshot', 'Link<->https://coppermind.net/wiki/Snapshot', 'Saga<->Other Stories', ' Released<->February 17   2017', ' Word Count<->23  564']\n",
      "['Title<->Children of the Nameless', 'Link<->https://coppermind.net/wiki/Children_of_the_Nameless', 'Saga<->Other Stories', ' Setting<->Magic: The Gathering Multiverse (Innistrad)', ' Released<->December 12   2018', ' Publisher<->Wizards of the Coast']\n",
      "['Title<->The Original', 'Link<->https://coppermind.net/wiki/The_Original', 'Saga<->Other Stories', ' Collaborators<->Mary Robinette Kowal   Julia Whelan', ' Released<->September 14   2020[1]', ' Publisher<->Recorded Books', ' ISBN<->9781980062738']\n",
      "['Title<->Dark One Book 1', 'Link<->https://coppermind.net/wiki/Dark_One_Book_1', 'Saga<->Other Stories', ' Setting<->Earth (Dark One)   Mirandus', ' Collaborators<->Jackson Lanzing   Collin Kelly   Nathan Gooden', ' Released<->June 25   2020 (ebook)\\nAugust 17   2020 (hardcover)', ' Publisher<->Vault Comics', ' ISBN<->978-1939424457', ' Page Count<->224']\n"
     ]
    }
   ],
   "source": [
    "import numpy as np\n",
    "def makeBookObjectComplete() :\n",
    "        class baseObjectBookComplete():\n",
    "                def ___init__(self,title,link,saga,follows,precedes,setting,collaborators,released,publisher,isbn,pageCount,wordCount):\n",
    "                        self.title = title\n",
    "                        self.link = link \n",
    "                        self.saga =saga\n",
    "                        self.follows = follows\n",
    "                        self.precedes = precedes\n",
    "                        self.setting = setting[\"\"]\n",
    "                        self.collaborators = collaborators[\"\"]\n",
    "                        self.release = released\n",
    "                        self.publisher = publisher\n",
    "                        self.isbn = isbn        \n",
    "                        self.pageCount = pageCount \n",
    "                        self.wordCount = wordCount\n",
    "        return baseObjectBookComplete;\n",
    "verify = [\"Follows\",\"Precedes\",\"Setting\",\"Collaborators\",\"Released\",\"Publisher\",\"ISBN\",\"Page Count\",\"Word Count\"]\n",
    "data = []\n",
    "BooksComplete =[]\n",
    "\n",
    "for bk in Books:\n",
    "        driver.get(bk.link)\n",
    "        bookComplete = makeBookObjectComplete()\n",
    "        y = driver.find_element(By.CLASS_NAME, 'infobox')\n",
    "        findOtherDetails = y.find_elements(By.CLASS_NAME, 'kv')\n",
    "        s= \"Title<->\"+bk.title +\",Link<->\"+ bk.link + \",Saga<->\"+bk.saga\n",
    "        for detail in findOtherDetails:\n",
    "               xx = detail.find_element(By.TAG_NAME, 'th')\n",
    "               yy = detail.find_elements(By.TAG_NAME, 'td')\n",
    "               i = 0\n",
    "               for ya in yy:\n",
    "                    s+=\", \" + xx.text +\"<->\"+ ya.text.replace(\",\",\"  \")\n",
    "        arr = s.split(\",\")\n",
    "        print(arr)\n",
    " "
   ]
  },
  {
   "cell_type": "code",
   "execution_count": null,
   "metadata": {},
   "outputs": [],
   "source": [
    "for book in BooksComplete:\n",
    "    print(book.follows is None)"
   ]
  },
  {
   "cell_type": "code",
   "execution_count": null,
   "metadata": {},
   "outputs": [],
   "source": []
  },
  {
   "cell_type": "code",
   "execution_count": null,
   "metadata": {},
   "outputs": [],
   "source": []
  }
 ],
 "metadata": {
  "kernelspec": {
   "display_name": "Python 3",
   "language": "python",
   "name": "python3"
  },
  "language_info": {
   "codemirror_mode": {
    "name": "ipython",
    "version": 3
   },
   "file_extension": ".py",
   "mimetype": "text/x-python",
   "name": "python",
   "nbconvert_exporter": "python",
   "pygments_lexer": "ipython3",
   "version": "3.8.3"
  },
  "vscode": {
   "interpreter": {
    "hash": "1a09ea459ee7e81c736ca9dffd0f603b9f4507a5e36c4f2b5f3604bec7cc609f"
   }
  }
 },
 "nbformat": 4,
 "nbformat_minor": 4
}
