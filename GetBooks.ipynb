{
 "cells": [
  {
   "cell_type": "code",
   "execution_count": 1,
   "metadata": {},
   "outputs": [],
   "source": [
    "import pandas as  pd\n",
    "from selenium import webdriver\n",
    "from webdriver_manager.chrome import ChromeDriverManager\n"
   ]
  },
  {
   "cell_type": "markdown",
   "metadata": {},
   "source": [
    "# GET DRIVER"
   ]
  },
  {
   "cell_type": "code",
   "execution_count": 2,
   "metadata": {},
   "outputs": [
    {
     "name": "stdout",
     "output_type": "stream",
     "text": [
      "\n"
     ]
    },
    {
     "name": "stderr",
     "output_type": "stream",
     "text": [
      "[WDM] - ====== WebDriver manager ======\n",
      "[WDM] - Current google-chrome version is 103.0.5060\n",
      "[WDM] - Get LATEST chromedriver version for 103.0.5060 google-chrome\n",
      "[WDM] - About to download new driver from https://chromedriver.storage.googleapis.com/103.0.5060.53/chromedriver_win32.zip\n",
      "[WDM] - Driver has been saved in cache [C:\\Users\\modou\\.wdm\\drivers\\chromedriver\\win32\\103.0.5060.53]\n",
      "<ipython-input-2-c026f0c15647>:1: DeprecationWarning: executable_path has been deprecated, please pass in a Service object\n",
      "  driver = webdriver.Chrome(ChromeDriverManager().install())\n"
     ]
    }
   ],
   "source": [
    "driver = webdriver.Chrome(ChromeDriverManager().install())"
   ]
  },
  {
   "cell_type": "markdown",
   "metadata": {},
   "source": [
    "# DATA COLLECTION"
   ]
  },
  {
   "cell_type": "markdown",
   "metadata": {},
   "source": [
    "## Navigate to begining page"
   ]
  },
  {
   "cell_type": "code",
   "execution_count": 4,
   "metadata": {},
   "outputs": [],
   "source": [
    "page_url=\"https://coppermind.net/wiki/Category:Books\"\n",
    "driver.get(page_url)"
   ]
  },
  {
   "cell_type": "code",
   "execution_count": 4,
   "metadata": {},
   "outputs": [],
   "source": [
    "from selenium.webdriver.common.by import By\n",
    "\n",
    "driver.find_element(By.XPATH, '//button[text() =\"Proceed\"]').click()"
   ]
  },
  {
   "cell_type": "markdown",
   "metadata": {},
   "source": [
    "## Get Books"
   ]
  },
  {
   "cell_type": "markdown",
   "metadata": {},
   "source": [
    "### Get basic information on books{basic props}"
   ]
  },
  {
   "cell_type": "code",
   "execution_count": 6,
   "metadata": {},
   "outputs": [],
   "source": [
    "\n",
    "\n",
    "def makeBookObject() :\n",
    "        class baseObjectBook():\n",
    "            def ___init__(self,title,link,saga):\n",
    "                self.title = title\n",
    "                self.link = link \n",
    "                self.saga =saga\n",
    "           \n",
    "        return baseObjectBook;\n",
    "        \n",
    "o = makeBookObject()\n",
    "Books=[]\n",
    "x = driver.find_elements(By.CLASS_NAME, 'kv')\n",
    "for a in x:\n",
    "    y=a.find_elements(By.TAG_NAME,'td')\n",
    "    for b in y:\n",
    "        z = b.find_elements(By.TAG_NAME,'a')\n",
    "        for c in z:\n",
    "            o.saga =  a.find_element(By.TAG_NAME,'th').text\n",
    "            o.title = c.get_attribute('title') \n",
    "            o.link = c.get_attribute('href')\n",
    "            x = makeBookObject()\n",
    "            x=o\n",
    "            Books.append(o)\n",
    "            o = makeBookObject()\n",
    "            \n",
    "            "
   ]
  },
  {
   "cell_type": "markdown",
   "metadata": {},
   "source": [
    "### Get extended information on books{extend props}"
   ]
  },
  {
   "cell_type": "code",
   "execution_count": 7,
   "metadata": {},
   "outputs": [],
   "source": [
    "import numpy as np\n",
    "def makeBookObjectComplete() :\n",
    "        class baseObjectBookComplete():\n",
    "                def ___init__(self,title,link,saga,follows,precedes,setting,collaborators,released,publisher,isbn,pageCount,wordCount):\n",
    "                        self.title = title\n",
    "                        self.link = link \n",
    "                        self.saga =saga\n",
    "                        self.follows = follows\n",
    "                        self.precedes = precedes\n",
    "                        self.setting = setting[\"\"]\n",
    "                        self.collaborators = collaborators[\"\"]\n",
    "                        self.release = released\n",
    "                        self.publisher = publisher\n",
    "                        self.isbn = isbn        \n",
    "                        self.pageCount = pageCount \n",
    "                        self.wordCount = wordCount\n",
    "        return baseObjectBookComplete;\n",
    "\n",
    "data = []\n",
    "\n",
    "for bk in Books:\n",
    "        driver.get(bk.link)\n",
    "        bookComplete = makeBookObjectComplete()\n",
    "        y = driver.find_element(By.CLASS_NAME, 'infobox')\n",
    "        findOtherDetails = y.find_elements(By.CLASS_NAME, 'kv')\n",
    "        s= bk.title +\", \"+ bk.link + \", \"+bk.saga\n",
    "        for detail in findOtherDetails:\n",
    "               xx = detail.find_element(By.TAG_NAME, 'th')\n",
    "               yy = detail.find_elements(By.TAG_NAME, 'td')\n",
    "               i = 0\n",
    "               for ya in yy:\n",
    "                    s+=\", \" + ya.text.replace(\",\",\" \")\n",
    "        arr = s.split(\",\")\n",
    "        data.append(arr)\n",
    " "
   ]
  },
  {
   "cell_type": "markdown",
   "metadata": {},
   "source": [
    "### Write to file"
   ]
  },
  {
   "cell_type": "code",
   "execution_count": 8,
   "metadata": {},
   "outputs": [],
   "source": [
    "import csv\n",
    "\n",
    "header = [\"Title\",\"Saga\",\"Follows\",\"Precedes\",\"Setting\",\"Collaborators\",\"Released\",\"Publisher\",\"ISBN\",\"Page Count\",\"Word Count\"]\n",
    "\n",
    "with open('../stormlight_porject/data/books.csv', 'w', encoding='UTF8', newline='') as f:\n",
    "    writer = csv.writer(f)\n",
    "\n",
    "    # write the header\n",
    "    writer.writerow(header)\n",
    "    for book in data:\n",
    "        # write the data\n",
    "        writer.writerow(book)\n",
    "\n",
    " "
   ]
  },
  {
   "cell_type": "markdown",
   "metadata": {},
   "source": [
    "## Get Planets"
   ]
  },
  {
   "cell_type": "markdown",
   "metadata": {},
   "source": [
    "### Navigate to Page"
   ]
  },
  {
   "cell_type": "code",
   "execution_count": 9,
   "metadata": {},
   "outputs": [],
   "source": [
    "page_url=\"https://coppermind.net/wiki/Category:Locations\"\n",
    "driver.get(page_url)"
   ]
  },
  {
   "cell_type": "markdown",
   "metadata": {},
   "source": [
    "### Get Data"
   ]
  },
  {
   "cell_type": "code",
   "execution_count": 10,
   "metadata": {},
   "outputs": [
    {
     "name": "stdout",
     "output_type": "stream",
     "text": [
      "Nalthis , Endowment, Awakening, Nalthian system, Cosmere, Warbreaker\n",
      "Roshar , Honor Cultivation Odium[1], Honor's Perpendicularity Cultivation's Perpendicularity, Surgebinding Old Magic Voidbinding, Rosharan system[2], Cosmere, The Stormlight Archive\n",
      "Scadrial , Preservation Ruin Harmony*, Well of Ascension Pits of Hathsin Ruin's Perpendicularity, Allomancy Feruchemy Hemalurgy, Scadrian system[1], Cosmere, Mistborn (series)\n",
      "Sel , Devotion Dominion, The Lake Second perpendicularity[1], AonDor ChayShan Dakhor Forgery Bloodsealing, Selish system[2], Cosmere, Elantris The Hope of Elantris The Emperor's Soul\n",
      "Ashyn , None current potential Investiture from Cultivation's past presence[1], Unknown disease-based, Rosharan system[2], Cosmere, The Silence Divine\n",
      "Braize , Odium, Unknown, Rosharan system[1], Cosmere, The Stormlight Archive\n",
      "Taldain , Autonomy, Sand mastery, Taldain system[1], Cosmere, White Sand\n",
      "First of the Sun , None[1], Patji's Eye, Aviar, Drominad system[2], Cosmere, Sixth of the Dusk\n",
      "Threnody , None current potential Investiture from Ambition's past presence, Shades, Threnodite system[1], Cosmere, Shadows for Silence in the Forests of Hell\n",
      "Yolen , Unknown, Lightweaving Microkinesis, Cosmere, Dragonsteel\n",
      "Vax , Unknown, Unknown, Cosmere, Unknown\n",
      "Obrodai , Unknown, Unknown, Cosmere, Unknown\n",
      "Earth (Alcatraz) , Council of Kings and Librarians, Alcatraz Versus the Evil Librarians\n",
      "Earth (Rithmatist) , The Rithmatist\n",
      "Earth (Reckoners) , Reckoners Multiverse, The Reckoners\n",
      "Earth (Legion) \n",
      "Earth (Snapshot) , Snapshot\n",
      "Earth (Skyward) , Cytoverse, Skyward (series) Defending Elysium\n"
     ]
    }
   ],
   "source": [
    "planetData = []\n",
    "tableHeaders = driver.find_elements(By.TAG_NAME,'th')\n",
    "for header in tableHeaders:\n",
    "    links = header.find_elements(By.TAG_NAME, 'a')\n",
    "    for link in links:\n",
    "        url = link.get_attribute('href')\n",
    "        locaton = link.get_attribute('title')\n",
    "        planetData.append(locaton + ' <-> '+ url)\n",
    "\n",
    "Planets = []\n",
    "for planet in planetData:\n",
    "    s  = planet.split(\"<->\")\n",
    "    this = s[1]\n",
    "    driver.get(this)\n",
    "    y = driver.find_element(By.CLASS_NAME, 'infobox')\n",
    "    findOtherDetails = y.find_elements(By.CLASS_NAME, 'kv')\n",
    "    row= s[0]\n",
    "    for detail in findOtherDetails:\n",
    "        xx = detail.find_element(By.TAG_NAME, 'th')\n",
    "        yy = detail.find_elements(By.TAG_NAME, 'td')\n",
    "        for ya in yy:\n",
    "            row+=\", \" + ya.text.replace(\",\",\"\")\n",
    "                \n",
    "    Planets.append(row)\n",
    "    print(row)\n",
    "#Planet,shard,perpendicularity,investiture,system,featured_in\n",
    "    "
   ]
  },
  {
   "cell_type": "markdown",
   "metadata": {},
   "source": [
    "### Write to file"
   ]
  },
  {
   "cell_type": "code",
   "execution_count": 11,
   "metadata": {},
   "outputs": [],
   "source": [
    "header = [\"planet\",\"shard\",\"perpendicularity\",\"investiture\",\"system\",\"featured_in\"]\n",
    "with open('../stormlight_porject/data/planets.csv', 'w', encoding='UTF8', newline='') as d: \n",
    "   writer = csv.writer(d)\n",
    "   writer.writerow(header)\n",
    "   for planet in Planets:\n",
    "        writer.writerow([planet])    "
   ]
  },
  {
   "cell_type": "markdown",
   "metadata": {},
   "source": [
    "## Get Shards"
   ]
  },
  {
   "cell_type": "markdown",
   "metadata": {},
   "source": [
    "### Navigate to page"
   ]
  },
  {
   "cell_type": "code",
   "execution_count": 12,
   "metadata": {},
   "outputs": [],
   "source": [
    "page_url=\"https://coppermind.net/wiki/Category:Shards\"\n",
    "driver.get(page_url)"
   ]
  },
  {
   "cell_type": "markdown",
   "metadata": {},
   "source": [
    "### Get Data"
   ]
  },
  {
   "cell_type": "code",
   "execution_count": null,
   "metadata": {},
   "outputs": [],
   "source": [
    "shardData = []\n",
    "sections = driver.find_elements(By.CLASS_NAME,'mw-category-group')\n",
    "for section in sections:\n",
    "    unOrderedList = section.find_elements(By.TAG_NAME, 'ul')\n",
    "    for list in unOrderedList:\n",
    "        links = list.find_elements(By.TAG_NAME,'a')\n",
    "        for link in links:\n",
    "            url = link.get_attribute('href')\n",
    "            shard = link.get_attribute('title')\n",
    "            shardData.append(shard + ' <-> '+ url)\n",
    "            \n",
    "Shards = []\n",
    "for shard in shardData:\n",
    "    s  = shard.split(\"<->\")\n",
    "    this = s[1]\n",
    "    driver.get(this)\n",
    "    y = driver.find_element(By.CLASS_NAME, 'infobox')\n",
    "    findOtherDetails = y.find_elements(By.CLASS_NAME, 'kv')\n",
    "    row= s[0]\n",
    "    for detail in findOtherDetails:\n",
    "        xx = detail.find_element(By.TAG_NAME, 'th')\n",
    "        yy = detail.find_elements(By.TAG_NAME, 'td')\n",
    "        for ya in yy:\n",
    "            row+=\", \" + ya.text.replace(\",\",\"\")\n",
    "            \n",
    "    Shards.append(row)\n",
    "    print(row)\n",
    "    # [\"shard\",\"vessel\",\"slivers\",\"Status\",\"Perpendicularity\",\"Magics\",\"Residence\",\"Universe\",feature_in]"
   ]
  },
  {
   "cell_type": "markdown",
   "metadata": {},
   "source": [
    "### Write to file"
   ]
  },
  {
   "cell_type": "code",
   "execution_count": null,
   "metadata": {},
   "outputs": [],
   "source": [
    "header = [\"shard\",\"vessel\",\"slivers\",\"Status\",\"Perpendicularity\",\"Magics\",\"Residence\",\"Universe\",\"feature_in\"]\n",
    "with open('../stormlight_porject/data/shards.csv', 'w', encoding='UTF8', newline='') as d: \n",
    "   writer = csv.writer(d)\n",
    "   writer.writerow(header)\n",
    "   for shard in Shards:\n",
    "        writer.writerow([shard])  "
   ]
  },
  {
   "cell_type": "markdown",
   "metadata": {},
   "source": [
    "## Get Characters"
   ]
  },
  {
   "cell_type": "markdown",
   "metadata": {},
   "source": [
    "### Navigate to page"
   ]
  },
  {
   "cell_type": "code",
   "execution_count": 3,
   "metadata": {},
   "outputs": [],
   "source": [
    "page_url=\"https://coppermind.net/wiki/Category:Characters\"\n",
    "driver.get(page_url)"
   ]
  },
  {
   "cell_type": "markdown",
   "metadata": {},
   "source": [
    "### Get data"
   ]
  },
  {
   "cell_type": "code",
   "execution_count": 5,
   "metadata": {},
   "outputs": [],
   "source": [
    "characterPageSections = []\n",
    "sections = driver.find_elements(By.CLASS_NAME,'mw-parser-output')\n",
    "for section in sections:\n",
    "    unOrderedList = section.find_elements(By.TAG_NAME, 'ul')\n",
    "    for lists in unOrderedList:\n",
    "        links = lists.find_elements(By.TAG_NAME,'li')\n",
    "        for link in links:\n",
    "            hrefs = link.find_elements(By.TAG_NAME,'a')\n",
    "            for href in hrefs:\n",
    "                url = href.get_attribute('href')\n",
    "                subject = href.text\n",
    "                characterPageSections.append(subject + ' <-> '+ url)\n",
    "\n",
    "Organizations = characterPageSections.pop(17)\n",
    "EthnicityAndNationality = characterPageSections.pop(17)\n",
    "\n",
    "characterPageSections.pop()\n",
    "characterPageSections.pop()\n",
    "characterPageSections.pop()\n",
    "characterPageSections.pop()\n",
    "characterPageSections.pop()\n",
    "characterPageSections.pop()\n",
    "\n",
    "characterPageSections.pop(0)\n",
    "characterPageSections.pop(1)\n",
    "characterPageSections.pop(2)\n",
    "characterPageSections.pop(2)\n",
    "\n",
    "\n",
    "Series= []\n",
    "subCatergories = []\n",
    "\n",
    "\n",
    "for pageSection in characterPageSections:\n",
    "    s  = pageSection.split(\"<->\")\n",
    "    this = s[1]\n",
    "    Series.append(s[0])\n",
    "    driver.get(this)\n",
    "    aaa = driver.find_elements(By.CLASS_NAME, 'CategoryTreeItem')\n",
    "    for aa in aaa:\n",
    "        bbb= aa.find_elements(By.TAG_NAME, 'a')\n",
    "        for bb in bbb:\n",
    "            subCatergories.append(s[0] + '<->' + bb.text + '<->' +bb.get_attribute('href'))\n",
    "\n"
   ]
  },
  {
   "cell_type": "code",
   "execution_count": null,
   "metadata": {},
   "outputs": [],
   "source": [
    "for category in subCatergories:\n",
    "    print(category)\n"
   ]
  },
  {
   "cell_type": "code",
   "execution_count": null,
   "metadata": {},
   "outputs": [],
   "source": [
    "Characters = []\n",
    "for category in subCatergories:\n",
    "    details = category.split(\"<->\")\n",
    "    page_url=details[2]\n",
    "    driver.get(page_url)\n",
    "    \n",
    "    characterData = []\n",
    "    sections = driver.find_elements(By.CLASS_NAME,'mw-category-group')\n",
    "    for section in sections:\n",
    "        unOrderedList = section.find_elements(By.TAG_NAME, 'ul')\n",
    "        for list in unOrderedList:\n",
    "            links = list.find_elements(By.TAG_NAME,'a')\n",
    "            for link in links:\n",
    "                url = link.get_attribute('href')\n",
    "                chracter = link.get_attribute('title')\n",
    "                characterData.append(chracter + ' <-> '+ url)\n",
    "\n",
    "    for Character in characterData:\n",
    "        s  = Character.split(\"<->\")\n",
    "        this = s[1]\n",
    "        driver.get(this)\n",
    "        row = s[0]\n",
    "        y = driver.find_element(By.CLASS_NAME, 'infobox')\n",
    "        findOtherDetails = y.find_elements(By.CLASS_NAME, 'kv')\n",
    "        for detail in findOtherDetails:\n",
    "            xx = detail.find_element(By.TAG_NAME, 'th')\n",
    "            yy = detail.find_elements(By.TAG_NAME, 'td')\n",
    "            for ya in yy:\n",
    "                row+=\", \"+xx.text +'<->'+ ya.text.replace(\",\",\"/\")\n",
    "        Characters.append(row)\n",
    "        print(row)"
   ]
  },
  {
   "cell_type": "code",
   "execution_count": 112,
   "metadata": {},
   "outputs": [
    {
     "ename": "FileNotFoundError",
     "evalue": "[Errno 2] No such file or directory: '../stormlight_porject/data/characters.csv'",
     "output_type": "error",
     "traceback": [
      "\u001b[1;31m---------------------------------------------------------------------------\u001b[0m",
      "\u001b[1;31mFileNotFoundError\u001b[0m                         Traceback (most recent call last)",
      "\u001b[1;32mc:\\Users\\keitam1\\Documents\\Work\\Personal Projects\\Stormlight_project\\GetBooks.ipynb Cell 36'\u001b[0m in \u001b[0;36m<cell line: 4>\u001b[1;34m()\u001b[0m\n\u001b[0;32m      <a href='vscode-notebook-cell:/c%3A/Users/keitam1/Documents/Work/Personal%20Projects/Stormlight_project/GetBooks.ipynb#ch0000035?line=0'>1</a>\u001b[0m \u001b[39mimport\u001b[39;00m \u001b[39mcsv\u001b[39;00m\n\u001b[0;32m      <a href='vscode-notebook-cell:/c%3A/Users/keitam1/Documents/Work/Personal%20Projects/Stormlight_project/GetBooks.ipynb#ch0000035?line=2'>3</a>\u001b[0m header \u001b[39m=\u001b[39m [\u001b[39m\"\u001b[39m\u001b[39mname\u001b[39m\u001b[39m\"\u001b[39m,\u001b[39m\"\u001b[39m\u001b[39mspouse\u001b[39m\u001b[39m\"\u001b[39m,\u001b[39m\"\u001b[39m\u001b[39mchildren\u001b[39m\u001b[39m\"\u001b[39m,\u001b[39m\"\u001b[39m\u001b[39mparents\u001b[39m\u001b[39m\"\u001b[39m,\u001b[39m\"\u001b[39m\u001b[39msiblings\u001b[39m\u001b[39m\"\u001b[39m,\u001b[39m\"\u001b[39m\u001b[39mrelatives\u001b[39m\u001b[39m\"\u001b[39m,\u001b[39m\"\u001b[39m\u001b[39mancestors\u001b[39m\u001b[39m\"\u001b[39m,\u001b[39m\"\u001b[39m\u001b[39mBorn\u001b[39m\u001b[39m\"\u001b[39m,\u001b[39m\"\u001b[39m\u001b[39mdied\u001b[39m\u001b[39m\"\u001b[39m,\u001b[39m\"\u001b[39m\u001b[39mabilities\u001b[39m\u001b[39m\"\u001b[39m,\u001b[39m\"\u001b[39m\u001b[39mBonded_with\u001b[39m\u001b[39m\"\u001b[39m,\u001b[39m\"\u001b[39m\u001b[39mtitles\u001b[39m\u001b[39m\"\u001b[39m,\u001b[39m\"\u001b[39m\u001b[39maliases\u001b[39m\u001b[39m\"\u001b[39m,\u001b[39m\"\u001b[39m\u001b[39mprofession\u001b[39m\u001b[39m\"\u001b[39m,\u001b[39m\"\u001b[39m\u001b[39mgroups\u001b[39m\u001b[39m\"\u001b[39m,\u001b[39m\"\u001b[39m\u001b[39mskills\u001b[39m\u001b[39m\"\u001b[39m,\u001b[39m\"\u001b[39m\u001b[39mspecies\u001b[39m\u001b[39m\"\u001b[39m,\u001b[39m\"\u001b[39m\u001b[39mresidence\u001b[39m\u001b[39m\"\u001b[39m,\u001b[39m\"\u001b[39m\u001b[39mbirthplace\u001b[39m\u001b[39m\"\u001b[39m,\u001b[39m\"\u001b[39m\u001b[39mreligion\u001b[39m\u001b[39m\"\u001b[39m,\u001b[39m\"\u001b[39m\u001b[39methnicity\u001b[39m\u001b[39m\"\u001b[39m,\u001b[39m\"\u001b[39m\u001b[39mnationality\u001b[39m\u001b[39m\"\u001b[39m,\u001b[39m\"\u001b[39m\u001b[39mworld\u001b[39m\u001b[39m\"\u001b[39m,\u001b[39m\"\u001b[39m\u001b[39muniverse\u001b[39m\u001b[39m\"\u001b[39m,\u001b[39m\"\u001b[39m\u001b[39mfeatured_in\u001b[39m\u001b[39m\"\u001b[39m]\n\u001b[1;32m----> <a href='vscode-notebook-cell:/c%3A/Users/keitam1/Documents/Work/Personal%20Projects/Stormlight_project/GetBooks.ipynb#ch0000035?line=3'>4</a>\u001b[0m \u001b[39mwith\u001b[39;00m \u001b[39mopen\u001b[39;49m(\u001b[39m'\u001b[39;49m\u001b[39m../stormlight_porject/data/characters.csv\u001b[39;49m\u001b[39m'\u001b[39;49m, \u001b[39m'\u001b[39;49m\u001b[39mw\u001b[39;49m\u001b[39m'\u001b[39;49m, encoding\u001b[39m=\u001b[39;49m\u001b[39m'\u001b[39;49m\u001b[39mUTF8\u001b[39;49m\u001b[39m'\u001b[39;49m, newline\u001b[39m=\u001b[39;49m\u001b[39m'\u001b[39;49m\u001b[39m'\u001b[39;49m) \u001b[39mas\u001b[39;00m d: \n\u001b[0;32m      <a href='vscode-notebook-cell:/c%3A/Users/keitam1/Documents/Work/Personal%20Projects/Stormlight_project/GetBooks.ipynb#ch0000035?line=4'>5</a>\u001b[0m    writer \u001b[39m=\u001b[39m csv\u001b[39m.\u001b[39mwriter(d)\n\u001b[0;32m      <a href='vscode-notebook-cell:/c%3A/Users/keitam1/Documents/Work/Personal%20Projects/Stormlight_project/GetBooks.ipynb#ch0000035?line=5'>6</a>\u001b[0m    writer\u001b[39m.\u001b[39mwriterow(header)\n",
      "\u001b[1;31mFileNotFoundError\u001b[0m: [Errno 2] No such file or directory: '../stormlight_porject/data/characters.csv'"
     ]
    }
   ],
   "source": [
    "import csv\n",
    "\n",
    "header = [\"name\",\"spouse\",\"children\",\"parents\",\"siblings\",\"relatives\",\"ancestors\",\"Born\",\"died\",\"abilities\",\"Bonded_with\",\"titles\",\"aliases\",\"profession\",\"groups\",\"skills\",\"species\",\"residence\",\"birthplace\",\"religion\",\"ethnicity\",\"nationality\",\"world\",\"universe\",\"featured_in\"]\n",
    "with open('../stormlight_porject/data/characters.csv', 'w', encoding='UTF8', newline='') as d: \n",
    "   writer = csv.writer(d)\n",
    "   writer.writerow(header)\n",
    "   for chracter in Characters:\n",
    "        writer.writerow([chracter]) "
   ]
  },
  {
   "cell_type": "code",
   "execution_count": 3,
   "metadata": {},
   "outputs": [],
   "source": [
    "import pandas as pd\n",
    "import numpy as np\n",
    "import csv\n",
    "\n",
    "df = pd.read_csv ('../stormlight_porject/data/characters.csv')\n",
    "df = df.replace({np.nan: None})\n",
    "\n",
    "header = [\"name\",\"spouse\",\"children\",\"parents\",\"siblings\",\"relatives\",\"ancestors\",\"Born\",\"died\",\"abilities\",\"Bonded_with\",\"titles\",\"aliases\",\"profession\",\"groups\",\"skills\",\"species\",\"residence\",\"birthplace\",\"religion\",\"ethnicity\",\"nationality\",\"world\",\"universe\",\"featured_in\"]\n",
    "\n",
    "with open('../stormlight_porject/data/clean_characters.csv', 'w', encoding='UTF8', newline='') as d: \n",
    "    writer = csv.writer(d)\n",
    "    writer.writerow(header)\n",
    "    for i in df.index:\n",
    "        checkAgainst =[None] * 25\n",
    "        for j in range(len(df.columns.to_list()))[1:]:\n",
    "            Brokern = df.loc[i, :].values.tolist()\n",
    "            x = str(df.loc[i,df.columns[j]]).lower().split(\"<->\")\n",
    "            idx = header.index(x[0].strip()) if x[0].strip() in header else -1\n",
    "            checkAgainst[0] = Brokern[0]\n",
    "            if(idx != -1):\n",
    "                checkAgainst[idx] = str(x[1])           \n",
    "        writer.writerow(checkAgainst)\n",
    "\n",
    "\n",
    "\n",
    "\n",
    "\n"
   ]
  },
  {
   "cell_type": "markdown",
   "metadata": {},
   "source": [
    " # DATA CLEAN AND IMPORT TO DB"
   ]
  },
  {
   "cell_type": "markdown",
   "metadata": {},
   "source": [
    "### General steps"
   ]
  },
  {
   "cell_type": "markdown",
   "metadata": {},
   "source": [
    "1. Make the necessary adjustments to the file\n",
    "2. Import the csv into a sql table => I'm using MS SQL Server\n",
    "3. Clean up data."
   ]
  },
  {
   "cell_type": "markdown",
   "metadata": {},
   "source": [
    "### Books"
   ]
  },
  {
   "cell_type": "code",
   "execution_count": null,
   "metadata": {
    "vscode": {
     "languageId": "sql"
    }
   },
   "outputs": [],
   "source": [
    "--First set of updates\n",
    "--Books.csv\n",
    "BEGIN TRAN\n",
    "\n",
    "        UPDATE booksImport SET saga = LTRIM(RTRIM(saga))\n",
    "\n",
    "        UPDATE booksImport SET Follows = LTRIM(RTRIM(Follows))\n",
    "\n",
    "        UPDATE booksImport SET Precedes = LTRIM(RTRIM(Precedes))\n",
    "\n",
    "        UPDATE booksImport SET Setting = LTRIM(RTRIM(Setting))\n",
    "\n",
    "        UPDATE booksImport SET Collaborators = LTRIM(RTRIM(Collaborators))\n",
    "\n",
    "        UPDATE booksImport SET Released = LTRIM(RTRIM(Released))\n",
    "\n",
    "        UPDATE booksImport SET Publisher = LTRIM(RTRIM(Publisher))\n",
    "\n",
    "        UPDATE booksImport SET ISBN = LTRIM(RTRIM(ISBN))\n",
    "\n",
    "        UPDATE booksImport SET Collaborators = REPLACE(Collaborators,'<->',',')\n",
    "        \n",
    "--COMMIT TRAN\n",
    "--ROLLBACK TRAN\n"
   ]
  },
  {
   "cell_type": "markdown",
   "metadata": {},
   "source": [
    "### Planets"
   ]
  },
  {
   "cell_type": "code",
   "execution_count": null,
   "metadata": {
    "vscode": {
     "languageId": "sql"
    }
   },
   "outputs": [],
   "source": [
    "--First set of updates\n",
    "--Planets.csv\n",
    "BEGIN TRAN\n",
    "\n",
    "    UPDATE planetsimport SET [shard] = LTRIM(TRIM([shard]))\n",
    "\n",
    "    UPDATE planetsimport SET [perpendicularity] = LTRIM(TRIM([perpendicularity]))\n",
    "\n",
    "    UPDATE planetsimport SET [investiture] = LTRIM(TRIM([investiture]))\n",
    "\n",
    "    UPDATE planetsimport SET [system] = LTRIM(TRIM([system]))\n",
    "    \n",
    "    UPDATE planetsimport SET [featured_in] = LTRIM(TRIM([featured_in]))\n",
    "\n",
    "\n",
    "-- Second set of updates\n",
    "    UPDATE planetsimport SET featured_in = REPLACE(featured_in, '/', ',')\n",
    "\n",
    "    UPDATE planetsimport SET perpendicularity = REPLACE(perpendicularity, '/', ',')\n",
    "\n",
    "    UPDATE planetsimport SET investiture = REPLACE(investiture, '/', ',')\n",
    "\n",
    "--COMMIT TRAN\n",
    "--ROLLBACK TRAN"
   ]
  },
  {
   "cell_type": "markdown",
   "metadata": {},
   "source": [
    "### Shards"
   ]
  },
  {
   "cell_type": "code",
   "execution_count": null,
   "metadata": {
    "vscode": {
     "languageId": "sql"
    }
   },
   "outputs": [],
   "source": [
    "BEGIN TRAN\n",
    "--First set of updates\n",
    "--shards.csv\n",
    "    UPDATE shardsImport SET constituents = REPLACE(constituents,'/',',')\n",
    "    UPDATE shardsImport SET slivers = REPLACE(slivers,'/',',')\n",
    "    UPDATE shardsImport SET perpendicularity = REPLACE(perpendicularity,'/',',')\n",
    "    UPDATE shardsImport SET magics = REPLACE(magics,'/',',')\n",
    "    UPDATE shardsImport SET splinters = REPLACE(splinters,'/',',')\n",
    "\n",
    "--Second set of updates\n",
    "    UPDATE shardsImport SET  shard = LTRIM(RTRIM(shard))\n",
    "    UPDATE shardsImport SET  vessel = LTRIM(RTRIM(vessel))\n",
    "    UPDATE shardsImport SET  constituents= LTRIM(RTRIM(constituents))\n",
    "    UPDATE shardsImport SET  slivers= LTRIM(RTRIM(shard))\n",
    "    UPDATE shardsImport SET  splinters= LTRIM(RTRIM(splinters))\n",
    "    UPDATE shardsImport SET  [status]= LTRIM(RTRIM([status]))\n",
    "    UPDATE shardsImport SET  perpendicularity= LTRIM(RTRIM(perpendicularity))\n",
    "    UPDATE shardsImport SET  magics= LTRIM(RTRIM(magics))\n",
    "    UPDATE shardsImport SET  residence= LTRIM(RTRIM(residence))\n",
    "    UPDATE shardsImport SET  universe= LTRIM(RTRIM(universe))\n",
    "    UPDATE shardsImport SET  feature_in = LTRIM(RTRIM(feature_in))\n",
    "    UPDATE shardsImport SET  era= LTRIM(RTRIM(era))\n",
    "\n",
    "--COMMIT TRAN\n",
    "--ROLLBACK TRAN"
   ]
  },
  {
   "cell_type": "markdown",
   "metadata": {},
   "source": [
    "### Parse out required tables"
   ]
  },
  {
   "cell_type": "markdown",
   "metadata": {},
   "source": [
    "##### Book Titles"
   ]
  },
  {
   "cell_type": "code",
   "execution_count": null,
   "metadata": {
    "vscode": {
     "languageId": "sql"
    }
   },
   "outputs": [],
   "source": [
    "--From book.csv import\n",
    "BEGIN TRAN\n",
    "-- Create a new table called '[BookTitle]' in schema '[dbo]'\n",
    "-- Drop the table if it already exists\n",
    "IF OBJECT_ID('[dbo].[BookTitle]', 'U') IS NOT NULL\n",
    "DROP TABLE [dbo].[BookTitle]\n",
    "GO\n",
    "-- Create the table in the specified schema\n",
    "CREATE TABLE [dbo].[BookTitle]\n",
    "(\n",
    "    [Id] INT IDENTITY(1,1) NOT NULL PRIMARY KEY, -- Primary Key column\n",
    "    [NAME] NVARCHAR(300) NOT NULL,\n",
    ");\n",
    "GO\n",
    "-- Insert rows into table 'BookTitle' in schema '[dbo]'\n",
    "INSERT INTO BookTitle\n",
    "SELECT DISTINCT(Title) from booksimport\n",
    "\n",
    "--COMMIT TRAN\n",
    "--ROLLBACK TRAN"
   ]
  },
  {
   "cell_type": "markdown",
   "metadata": {},
   "source": [
    "#### Plublishers"
   ]
  },
  {
   "cell_type": "code",
   "execution_count": null,
   "metadata": {
    "vscode": {
     "languageId": "sql"
    }
   },
   "outputs": [],
   "source": [
    "BEGIN TRAN\n",
    "-- Create a new table called '[Publisher]' in schema '[dbo]'\n",
    "-- Drop the table if it already exists\n",
    "IF OBJECT_ID('[dbo].[Publisher]', 'U') IS NOT NULL\n",
    "DROP TABLE [dbo].[Publisher]\n",
    "GO\n",
    "-- Create the table in the specified schema\n",
    "CREATE TABLE [dbo].[Publisher]\n",
    "(\n",
    "    [Id] INT IDENTITY(1,1) NOT NULL PRIMARY KEY, -- Primary Key column\n",
    "    [NAME] NVARCHAR(200) NOT NULL,\n",
    ");\n",
    "GO\n",
    "-- Insert rows into table 'Publisher' in schema '[dbo]'\n",
    "INSERT INTO Publisher\n",
    "Select DISTINCT(Publisher) from booksImport\n",
    "\n",
    "--COMMIT TRAN\n",
    "--ROLLBACK TRAN"
   ]
  },
  {
   "cell_type": "markdown",
   "metadata": {},
   "source": [
    "#### Planets"
   ]
  },
  {
   "cell_type": "code",
   "execution_count": null,
   "metadata": {
    "vscode": {
     "languageId": "sql"
    }
   },
   "outputs": [],
   "source": [
    "--From planets.csv import\n",
    "BEGIN TRAN\n",
    "-- Create a new table called '[Planets]' in schema '[dbo]'\n",
    "-- Drop the table if it already exists\n",
    "IF OBJECT_ID('[dbo].[Planets]', 'U') IS NOT NULL\n",
    "DROP TABLE [dbo].[Planets]\n",
    "GO\n",
    "-- Create the table in the specified schema\n",
    "CREATE TABLE [dbo].[Planets]\n",
    "(\n",
    "    [Id] INT IDENTITY(1,1) NOT NULL PRIMARY KEY, -- Primary Key column\n",
    "    [NAME] NVARCHAR(100) NOT NULL,\n",
    "\n",
    "GO\n",
    "-- Insert rows into table 'Planets' in schema '[dbo]'\n",
    "INSERT INTO [dbo].[Planets]\n",
    "SELECT DISTINCT(planet)FROM (\n",
    "SELECT planet,VALUE FROM planetsimport CROSS APPLY STRING_SPLIT(perpendicularity, ',')\n",
    ") a\n",
    "--COMMIT TRAN\n",
    "--ROLLBACK TRAN"
   ]
  },
  {
   "cell_type": "markdown",
   "metadata": {},
   "source": [
    "#### Residence"
   ]
  },
  {
   "cell_type": "code",
   "execution_count": null,
   "metadata": {
    "vscode": {
     "languageId": "sql"
    }
   },
   "outputs": [],
   "source": [
    "BEGIN TRAN\n",
    "\n",
    "-- Create a new table called '[Residence]' in schema '[dbo]'\n",
    "-- Drop the table if it already exists\n",
    "IF OBJECT_ID('[dbo].[Residence]', 'U') IS NOT NULL\n",
    "DROP TABLE [dbo].[Residence]\n",
    "GO\n",
    "-- Create the table in the specified schema\n",
    "CREATE TABLE [dbo].[Residence]\n",
    "(\n",
    "    [Id] INT IDENTITY (1,1) NOT NULL PRIMARY KEY, -- Primary Key column\n",
    "    [SHARD] INT NOT NULL,\n",
    "    [PLANET] int NOT NULL\n",
    ");\n",
    "GO\n",
    "-- Insert rows into table 'Residence' in schema '[dbo]'\n",
    "INSERT INTO Residence\n",
    "SELECT s.id, \n",
    "p.id 'Planet'\n",
    "FROM shardsImport si\n",
    "CROSS APPLY STRING_SPLIT(residence, ',') A\n",
    "join Planets p on A.[value] = p.NAME\n",
    "join shard s on s.name = si.shard\n",
    "\n",
    "ALTER TABLE  Residence ADD CONSTRAINT FK_PLANET_RESIDENCE FOREIGN KEY (PLANET) REFERENCES Planets(Id);\n",
    "\n",
    "--COMMIT TRAN\n",
    "--ROLLBACK TRAN"
   ]
  },
  {
   "cell_type": "markdown",
   "metadata": {},
   "source": [
    "#### Systems"
   ]
  },
  {
   "cell_type": "code",
   "execution_count": null,
   "metadata": {
    "vscode": {
     "languageId": "sql"
    }
   },
   "outputs": [],
   "source": [
    "--From books.csv import\n",
    "BEGIN TRAN\n",
    "-- Create a new table called '[Systems]' in schema '[dbo]'\n",
    "-- Drop the table if it already exists\n",
    "IF OBJECT_ID('[dbo].[Systems]', 'U') IS NOT NULL\n",
    "DROP TABLE [dbo].[Systems]\n",
    "GO\n",
    "-- Create the table in the specified schema\n",
    "CREATE TABLE [dbo].[Systems]\n",
    "(\n",
    "    [Id] INT IDENTITY(1,1) NOT NULL PRIMARY KEY, -- Primary Key column\n",
    "    [NAME] NVARCHAR(200) NOT NULL,\n",
    "\n",
    ");\n",
    "GO\n",
    "-- Insert rows into table 'Systems' in schema '[dbo]'\n",
    "INSERT INTO Systems\n",
    "SELECT Distinct([system]) from planetsimport\n",
    "\n",
    "--COMMIT TRAN\n",
    "--ROLLBACK TRAN\n"
   ]
  },
  {
   "cell_type": "markdown",
   "metadata": {},
   "source": [
    "#### Collaborators"
   ]
  },
  {
   "cell_type": "code",
   "execution_count": null,
   "metadata": {
    "vscode": {
     "languageId": "sql"
    }
   },
   "outputs": [],
   "source": [
    "BEGIN TRAN\n",
    "-- Create a new table called '[Collaborators]' in schema '[dbo]'\n",
    "-- Drop the table if it already exists\n",
    "IF OBJECT_ID('[dbo].[Collaborators]', 'U') IS NOT NULL\n",
    "DROP TABLE [dbo].[Collaborators]\n",
    "GO\n",
    "-- Create the table in the specified schema\n",
    "CREATE TABLE [dbo].[Collaborators]\n",
    "(\n",
    "    [ID] INT IDENTITY(1,1) NOT NULL PRIMARY KEY, -- Primary Key column\n",
    "    [BOOK] INT NOT NULL,\n",
    "    [SERIES] int NOT NULL,\n",
    "    [COLLABORATORS] NVARCHAR(50) NOT NULL\n",
    "   \n",
    ");\n",
    "GO\n",
    "-- Insert rows into table 'Collaborators' in schema '[dbo]'\n",
    "INSERT INTO Collaborators\n",
    "SELECT b.id 'Book',\n",
    "s.Id 'Series',\n",
    "LTRIM(RTRIM(VALUE)) 'Collaborator'  \n",
    "FROM booksImport a CROSS APPLY STRING_SPLIT(Collaborators, ',') aa\n",
    "Join BookTitles b on a.Title = b.BOOKTITLE\n",
    "JOIN Series s on a.Saga = s.NAME\n",
    "Where LTRIM(RTRIM(VALUE)) <> ''\n",
    "\n",
    "ALTER TABLE  Collaborators ADD CONSTRAINT FK_BOOK_COLLABORATORS FOREIGN KEY (BOOK) REFERENCES BookTitles(ID);\n",
    "ALTER TABLE  Collaborators ADD CONSTRAINT FK_SERIES_COLLABORATORS FOREIGN KEY (SERIES) REFERENCES Series(ID);\n",
    "\n",
    "--COMMIT TRAN\n",
    "--ROLLBACK TRAN"
   ]
  },
  {
   "cell_type": "markdown",
   "metadata": {},
   "source": [
    "##### Series"
   ]
  },
  {
   "cell_type": "code",
   "execution_count": null,
   "metadata": {
    "vscode": {
     "languageId": "sql"
    }
   },
   "outputs": [],
   "source": [
    "--From books.csv import\n",
    "BEGIN TRAN\n",
    "-- Create a new table called '[Series]' in schema '[dbo]'\n",
    "-- Drop the table if it already exists\n",
    "IF OBJECT_ID('[dbo].[Series]', 'U') IS NOT NULL\n",
    "DROP TABLE [dbo].[Series]\n",
    "GO\n",
    "-- Create the table in the specified schema\n",
    "CREATE TABLE [dbo].[Series]\n",
    "(\n",
    "    [Id] INT IDENTITY(1,1) NOT NULL PRIMARY KEY, -- Primary Key column\n",
    "    [NAME] NVARCHAR(300) NOT NULL,\n",
    ");\n",
    "GO\n",
    "-- Insert rows into table 'Series' in schema '[dbo]'\n",
    "INSERT INTO Series\n",
    "SELECT VALUE FROM planetsimport CROSS APPLY STRING_SPLIT(featured_in, ',')\n",
    "\n",
    "--COMMIT TRAN\n",
    "--ROLLBACK TRAN"
   ]
  },
  {
   "cell_type": "markdown",
   "metadata": {},
   "source": [
    "#### Investiture"
   ]
  },
  {
   "cell_type": "code",
   "execution_count": null,
   "metadata": {
    "vscode": {
     "languageId": "sql"
    }
   },
   "outputs": [],
   "source": [
    "BEGIN TRAN\n",
    "-- Create a new table called '[Investiture]' in schema '[dbo]'\n",
    "-- Drop the table if it already exists\n",
    "IF OBJECT_ID('[dbo].[Investiture]', 'U') IS NOT NULL\n",
    "DROP TABLE [dbo].[Investiture]\n",
    "GO\n",
    "-- Create the table in the specified schema\n",
    "CREATE TABLE [dbo].[Investiture]\n",
    "(\n",
    "    [Id] INT IDENTITY(1,1) NOT NULL PRIMARY KEY, -- Primary Key column\n",
    "    [NAME] NVARCHAR(100) NOT NULL,\n",
    "    [SHARD] NVARCHAR(100) NOT NULL\n",
    "\n",
    ");\n",
    "GO\n",
    "-- Insert rows into table 'Investiture' in schema '[dbo]'\n",
    "INSERT INTO Investiture\n",
    "SELECT VALUE,shard FROM shardsImport CROSS APPLY STRING_SPLIT(magics, ',')\n",
    "--COMMIT TRAN\n",
    "--ROLLBACK TRAN"
   ]
  },
  {
   "cell_type": "markdown",
   "metadata": {},
   "source": [
    "#### Perpendicularity"
   ]
  },
  {
   "cell_type": "code",
   "execution_count": null,
   "metadata": {
    "vscode": {
     "languageId": "sql"
    }
   },
   "outputs": [],
   "source": [
    "BEGIN TRAN\n",
    "-- Create a new table called '[Perpendicularity]' in schema '[dbo]'\n",
    "-- Drop the table if it already exists\n",
    "IF OBJECT_ID('[dbo].[Perpendicularity]', 'U') IS NOT NULL\n",
    "DROP TABLE [dbo].[Perpendicularity]\n",
    "GO\n",
    "-- Create the table in the specified schema\n",
    "CREATE TABLE [dbo].[Perpendicularity]\n",
    "(\n",
    "    [Id] INT IDENTITY NOT NULL PRIMARY KEY, -- Primary Key column\n",
    "    [NAME] NVARCHAR(200) NOT NULL,\n",
    "    [SHARD] NVARCHAR(50) NOT NULL\n",
    ");\n",
    "GO\n",
    "-- Insert rows into table 'perpendicularity' in schema '[dbo]'\n",
    "INSERT INTO Perpendicularity\n",
    "SELECT VALUE,shard FROM shardsImport CROSS APPLY STRING_SPLIT(perpendicularity, ',')"
   ]
  },
  {
   "cell_type": "markdown",
   "metadata": {},
   "source": [
    "#### Constituents"
   ]
  },
  {
   "cell_type": "code",
   "execution_count": null,
   "metadata": {
    "vscode": {
     "languageId": "sql"
    }
   },
   "outputs": [],
   "source": [
    "BEGIN TRAN\n",
    "-- Create a new table called '[Constituents]' in schema '[dbo]'\n",
    "-- Drop the table if it already exists\n",
    "IF OBJECT_ID('[dbo].[Constituents]', 'U') IS NOT NULL\n",
    "DROP TABLE [dbo].[Constituents]\n",
    "GO\n",
    "-- Create the table in the specified schema\n",
    "CREATE TABLE [dbo].[Constituents]\n",
    "(\n",
    "    [Id] INT IDENTITY(1,1) NOT NULL PRIMARY KEY, -- Primary Key column\n",
    "    [NAME] NVARCHAR(50) NOT NULL,\n",
    "    [SHARD] NVARCHAR(50) NOT NULL\n",
    ");\n",
    "GO\n",
    "-- Insert rows into table 'Constituents' in schema '[dbo]'\n",
    "INSERT INTO Constituents\n",
    "SELECT VALUE 'constituents',shard FROM shardsImport CROSS APPLY STRING_SPLIT(constituents, ',')\n",
    "\n",
    "--COMMIT TRAN\n",
    "--ROLLBACK TRAN"
   ]
  },
  {
   "cell_type": "markdown",
   "metadata": {},
   "source": [
    "#### Slivers"
   ]
  },
  {
   "cell_type": "code",
   "execution_count": null,
   "metadata": {
    "vscode": {
     "languageId": "sql"
    }
   },
   "outputs": [],
   "source": [
    "BEGIN TRAN\n",
    "-- Create a new table called '[Slivers]' in schema '[dbo]'\n",
    "-- Drop the table if it already exists\n",
    "IF OBJECT_ID('[dbo].[Slivers]', 'U') IS NOT NULL\n",
    "DROP TABLE [dbo].[Slivers]\n",
    "GO\n",
    "-- Create the table in the specified schema\n",
    "CREATE TABLE [dbo].[Slivers]\n",
    "(\n",
    "    [Id] INT IDENTITY(1,1) NOT NULL PRIMARY KEY, -- Primary Key column\n",
    "    [NAME] NVARCHAR(50) NOT NULL,\n",
    "    [SHARD] NVARCHAR(100) NOT NULL\n",
    ");\n",
    "GO\n",
    "-- Insert rows into table 'Slivers' in schema '[dbo]'\n",
    "INSERT INTO Slivers\n",
    "SELECT VALUE 'Slivers',shard FROM shardsImport CROSS APPLY STRING_SPLIT(slivers, ',')\n",
    "\n",
    "--COMMIT TRAN\n",
    "--ROLLBACK TRAN"
   ]
  },
  {
   "cell_type": "markdown",
   "metadata": {},
   "source": [
    "#### Splinters"
   ]
  },
  {
   "cell_type": "code",
   "execution_count": null,
   "metadata": {
    "vscode": {
     "languageId": "sql"
    }
   },
   "outputs": [],
   "source": [
    "BEGIN TRAN\n",
    "-- Create a new table called '[Splinters]' in schema '[dbo]'\n",
    "-- Drop the table if it already exists\n",
    "IF OBJECT_ID('[dbo].[Splinters]', 'U') IS NOT NULL\n",
    "DROP TABLE [dbo].[Splinters]\n",
    "GO\n",
    "-- Create the table in the specified schema\n",
    "CREATE TABLE [dbo].[Splinters]\n",
    "(\n",
    "    [Id] INT IDENTITY(1,1) NOT NULL PRIMARY KEY, -- Primary Key column\n",
    "    [NAME] NVARCHAR(50) NOT NULL,\n",
    "    [SHARD] NVARCHAR(100) NOT NULL\n",
    ");\n",
    "GO\n",
    "-- Insert rows into table 'Splinters' in schema '[dbo]'\n",
    "INSERT INTO Splinters\n",
    "SELECT VALUE 'splinters',shard FROM shardsImport CROSS APPLY STRING_SPLIT(splinters, ',')\n",
    "\n",
    "--COMMIT TRAN\n",
    "--ROLLBACK TRAN\n"
   ]
  },
  {
   "cell_type": "markdown",
   "metadata": {},
   "source": [
    "#### Magics"
   ]
  },
  {
   "cell_type": "code",
   "execution_count": null,
   "metadata": {
    "vscode": {
     "languageId": "sql"
    }
   },
   "outputs": [],
   "source": [
    "BEGIN TRAN\n",
    "-- Create a new table called '[Magics]' in schema '[dbo]'\n",
    "-- Drop the table if it already exists\n",
    "IF OBJECT_ID('[dbo].[Magics]', 'U') IS NOT NULL\n",
    "DROP TABLE [dbo].[Magics]\n",
    "GO\n",
    "-- Create the table in the specified schema\n",
    "CREATE TABLE [dbo].[Magics]\n",
    "(\n",
    "    [Id] INT IDENTITY(1,1) NOT NULL PRIMARY KEY, -- Primary Key column\n",
    "    [NAME] NVARCHAR(50) NOT NULL,\n",
    "    [SHARD] NVARCHAR(100) NOT NULL\n",
    ");\n",
    "GO\n",
    "-- Insert rows into table 'Magics' in schema '[dbo]'\n",
    "INSERT INTO Magics\n",
    "SELECT VALUE 'magics',shard FROM shardsImport CROSS APPLY STRING_SPLIT(magics, ',')\n",
    "\n",
    "--COMMIT TRAN\n",
    "--ROLLBACK TRAN"
   ]
  },
  {
   "cell_type": "markdown",
   "metadata": {},
   "source": [
    "#### Era"
   ]
  },
  {
   "cell_type": "code",
   "execution_count": null,
   "metadata": {
    "vscode": {
     "languageId": "sql"
    }
   },
   "outputs": [],
   "source": [
    "BEGIN TRAN\n",
    "-- Create a new table called '[Era]' in schema '[dbo]'\n",
    "-- Drop the table if it already exists\n",
    "IF OBJECT_ID('[dbo].[Era]', 'U') IS NOT NULL\n",
    "DROP TABLE [dbo].[Era]\n",
    "GO\n",
    "-- Create the table in the specified schema\n",
    "CREATE TABLE [dbo].[Era]\n",
    "(\n",
    "    [Id] INT IDENTITY(1,1) NOT NULL PRIMARY KEY, -- Primary Key column\n",
    "    [NAME] NVARCHAR(50) NOT NULL,\n",
    "    [SHARD] NVARCHAR(100) NOT NULL\n",
    ");\n",
    "GO\n",
    "-- Insert rows into table 'Era' in schema '[dbo]'\n",
    "INSERT INTO Era\n",
    "SELECT VALUE 'era',shard FROM shardsImport CROSS APPLY STRING_SPLIT(era, ',')\n",
    "\n",
    "--COMMIT TRAN\n",
    "--ROLLBACK TRAN"
   ]
  },
  {
   "cell_type": "markdown",
   "metadata": {},
   "source": [
    "#### Shard"
   ]
  },
  {
   "cell_type": "code",
   "execution_count": null,
   "metadata": {
    "vscode": {
     "languageId": "sql"
    }
   },
   "outputs": [],
   "source": [
    "BEGIN TRAN\n",
    "-- Create a new table called '[Shard]' in schema '[dbo]'\n",
    "-- Drop the table if it already exists\n",
    "IF OBJECT_ID('[dbo].[Shard]', 'U') IS NOT NULL\n",
    "DROP TABLE [dbo].[Shard]\n",
    "GO\n",
    "-- Create the table in the specified schema\n",
    "CREATE TABLE [dbo].[Shard]\n",
    "(\n",
    "    [Id] INT IDENTITY(1,1) NOT NULL PRIMARY KEY, -- Primary Key column\n",
    "    [NAME] NVARCHAR(50) NOT NULL\n",
    ");\n",
    "GO\n",
    "-- Insert rows into table 'Shard' in schema '[dbo]'\n",
    "INSERT INTO Shard\n",
    "SELECT  shard FROM shardsImport \n",
    "\n",
    "--COMMIT TRAN\n",
    "--ROLLBACK TRAN"
   ]
  },
  {
   "cell_type": "markdown",
   "metadata": {},
   "source": [
    "#### Shard Status"
   ]
  },
  {
   "cell_type": "code",
   "execution_count": null,
   "metadata": {
    "vscode": {
     "languageId": "sql"
    }
   },
   "outputs": [],
   "source": [
    "BEGIN TRAN\n",
    "-- Create a new table called '[Shard_Status]' in schema '[dbo]'\n",
    "-- Drop the table if it already exists\n",
    "IF OBJECT_ID('[dbo].[Shard_Status]', 'U') IS NOT NULL\n",
    "DROP TABLE [dbo].[Shard_Status]\n",
    "GO\n",
    "-- Create the table in the specified schema\n",
    "CREATE TABLE [dbo].[Shard_Status]\n",
    "(\n",
    "    [Id] INT IDENTITY(1,1) NOT NULL PRIMARY KEY, -- Primary Key column\n",
    "    [NAME] NVARCHAR(100) NOT NULL,\n",
    " \n",
    ");\n",
    "GO\n",
    "-- Insert rows into table 'Era' in schema '[dbo]'\n",
    "INSERT INTO Shard_Status\n",
    "SELECT DISTINCT(VALUE) 'Status' FROM shardsImport CROSS APPLY STRING_SPLIT([status], ',')\n",
    "\n",
    "--COMMIT TRAN\n",
    "--ROLLBACK TRAN"
   ]
  },
  {
   "cell_type": "markdown",
   "metadata": {},
   "source": [
    "#### Quick Updates"
   ]
  },
  {
   "cell_type": "code",
   "execution_count": null,
   "metadata": {
    "vscode": {
     "languageId": "sql"
    }
   },
   "outputs": [],
   "source": [
    "BEGIN TRAN\n",
    "-- Update rows in table '[Constituents]' in schema '[dbo]'\n",
    "    UPDATE [dbo].[Constituents] SET SHARD =  s.id FROM Constituents c  JOIN Shard s ON c.shard = s.name\n",
    "\n",
    "-- Update rows in table '[Era]' in schema '[dbo]'\n",
    "    UPDATE [dbo].[Era] SET SHARD =  s.id FROM Era c  JOIN Shard s ON c.shard = s.name\n",
    "\n",
    "-- Update rows in table '[Perpendicularity]' in schema '[dbo]'\n",
    "    UPDATE [dbo].[Perpendicularity] SET SHARD =  s.id FROM Perpendicularity c  JOIN Shard s ON c.shard = s.name\n",
    "\n",
    "-- Update rows in table '[Investiture]' in schema '[dbo]'\n",
    "    UPDATE [dbo].[Investiture] SET SHARD =  s.id FROM Investiture c  JOIN Shard s ON c.shard = s.name\n",
    "\n",
    "-- Update rows in table '[Magics]' in schema '[dbo]'\n",
    "    UPDATE [dbo].[Magics] SET SHARD =  s.id FROM Magics c  JOIN Shard s ON c.shard = s.name\n",
    "\n",
    "-- Update rows in table '[Slivers]' in schema '[dbo]'\n",
    "    UPDATE [dbo].[Slivers] SET SHARD =  s.id FROM Slivers c  JOIN Shard s ON c.shard = s.name\n",
    "\n",
    "-- Update rows in table '[Splinters]' in schema '[dbo]'\n",
    "    UPDATE [dbo].[Splinters] SET SHARD =  s.id FROM Splinters c  JOIN Shard s ON c.shard = s.name\n",
    "\n",
    "-- Update rows in table '[Shard_Status]' in schema '[dbo]'\n",
    "    UPDATE [dbo].[Shard_Status] SET SHARD =  s.id FROM Shard_Status c  JOIN Shard s ON c.shard = s.name\n",
    "\n",
    "-- Update shard column in the tables below to an Integer(Data Type error for relationships resolution)\n",
    "    ALTER TABLE Perpendicularity ALTER COLUMN SHARD INT;\n",
    "    ALTER TABLE Investiture ALTER COLUMN SHARD INT;\n",
    "    ALTER TABLE Magics ALTER COLUMN SHARD INT;\n",
    "    ALTER TABLE Slivers ALTER COLUMN SHARD INT;\n",
    "    ALTER TABLE Splinters ALTER COLUMN SHARD INT;\n",
    "    ALTER TABLE Splinters ALTER COLUMN SHARD INT;\n",
    "    ALTER TABLE Planets ALTER COLUMN SHARD INT;\n",
    "    \n",
    "\n",
    "    \n",
    "--COMMIT TRAN\n",
    "-- ROLLBACK TRAN\n"
   ]
  },
  {
   "cell_type": "markdown",
   "metadata": {},
   "source": [
    "### Strip characters from a string By [George Mastros](https://stackoverflow.com/users/1408129/george-mastros)\n",
    "\n",
    "- Alphabetic only:\n",
    "SELECT distinct(dbo.fn_StripCharacters([name], '^a-z'))  FROM [cosmere].[dbo].[clean_characters]\n",
    "\n",
    "- Numeric only:\n",
    "        > SELECT dbo.fn_StripCharacters('a1!s2@d3#f4$', '^0-9')\n",
    "\n",
    "- Alphanumeric only:\n",
    "        > SELECT dbo.fn_StripCharacters('a1!s2@d3#f4$', '^a-z0-9')\n",
    "\n",
    "- Non-alphanumeric:\n",
    "        > SELECT dbo.fn_StripCharacters('a1!s2@d3#f4$', 'a-z0-9')\n"
   ]
  },
  {
   "cell_type": "code",
   "execution_count": null,
   "metadata": {
    "vscode": {
     "languageId": "sql"
    }
   },
   "outputs": [],
   "source": [
    "USE [cosmere]\n",
    "GO\n",
    "\n",
    "/****** Object:  UserDefinedFunction [dbo].[fn_StripCharacters]    Script Date: 2022-07-05 6:28:45 PM ******/\n",
    "SET ANSI_NULLS ON\n",
    "GO\n",
    "\n",
    "SET QUOTED_IDENTIFIER ON\n",
    "GO\n",
    "\n",
    "  CREATE FUNCTION [dbo].[fn_StripCharacters]\n",
    "(\n",
    "    @String NVARCHAR(MAX), \n",
    "    @MatchExpression VARCHAR(255)\n",
    ")\n",
    "RETURNS NVARCHAR(MAX)\n",
    "AS\n",
    "BEGIN\n",
    "    SET @MatchExpression =  '%['+@MatchExpression+']%'\n",
    "    \n",
    "    WHILE PatIndex(@MatchExpression, @String) > 0\n",
    "        SET @String = Stuff(@String, PatIndex(@MatchExpression, @String), 1, '')\n",
    "    \n",
    "    RETURN @String\n",
    "    \n",
    "END\n",
    "GO\n",
    "\n"
   ]
  },
  {
   "cell_type": "markdown",
   "metadata": {},
   "source": [
    "#### BOOKS"
   ]
  },
  {
   "cell_type": "code",
   "execution_count": null,
   "metadata": {
    "vscode": {
     "languageId": "sql"
    }
   },
   "outputs": [],
   "source": [
    "BEGIN TRAN\n",
    "\n",
    "-- Create a new table called '[BOOKS]' in schema '[dbo]'\n",
    "-- Drop the table if it already exists\n",
    "IF OBJECT_ID('[dbo].[BOOKS]', 'U') IS NOT NULL\n",
    "DROP TABLE [dbo].[BOOKS]\n",
    "GO\n",
    "-- Create the table in the specified schema\n",
    "CREATE TABLE [dbo].[BOOKS]\n",
    "(\n",
    "    [BOOK] INT  NOT NULL, -- Primary Key column\n",
    "    [SERIES] INT NOT NULL,\n",
    "    [FOLLOWS] INT NOT NULL,\n",
    "    [PRECEDES] INT NOT NULL,\n",
    "    [SETTING] INT NOT NULL,\n",
    "    [COLLABORATORS] INT NOT NULL,\n",
    "    [PUBLISHER] INT NOT NULL,\n",
    "    [ISBN] VARCHAR(100) NOT NULL,\n",
    "    [RELEASED] VARCHAR(20) NOT NULL\n",
    ");\n",
    "GO\n",
    "-- Insert rows into table 'BOOKS' in schema '[dbo]'\n",
    "INSERT INTO BOOKS\n",
    "SELECT bt.ID 'Book'\n",
    "      ,s.id 'Series'\n",
    "      ,ISNULL(follows.id,0) 'Follows'\n",
    "      ,ISNULL(precedes.id,0) 'Precedes'\n",
    "      ,p.id 'Setting'\n",
    "      ,ISNULL(c.id,0) 'Collaborators'\n",
    "      ,ISNULL(pb.Id,0) 'Publisher'\n",
    "      ,[ISBN]\n",
    "      ,CONVERT(VARCHAR(20),[Released],120) 'Released'\n",
    "  FROM [cosmere].[dbo].[booksImport] bi\n",
    "  LEFT JOIN BookTitles bt on bi.Title = bt.BOOKTITLE\n",
    "  LEFT JOIN BookTitles follows on bi.Follows = follows.BOOKTITLE\n",
    "  LEFT JOIN BookTitles precedes on bi.Precedes = precedes.BOOKTITLE\n",
    "  JOIN Planets p on bi.Setting = p.NAME\n",
    "  LEFT JOIN Series s on bi.Saga = s.NAME  and s.planet = p.name\n",
    "  LEFT JOIN Collaborators c on s.id = c.Series and bt.ID = c.book\n",
    "  LEFT JOIN Publisher pb on bi.Publisher = pb.NAME\n",
    "\n",
    "ALTER TABLE  BOOKS ADD CONSTRAINT FK_BOOKTITLES_BOOKS FOREIGN KEY (Book) REFERENCES BookTitles(ID);\n",
    "ALTER TABLE  BOOKS ADD CONSTRAINT FK_SERIES_BOOKS FOREIGN KEY (Series) REFERENCES Series(ID);\n",
    "ALTER TABLE  BOOKS ADD CONSTRAINT FK_FOLLOWS_BOOKS FOREIGN KEY (Follows) REFERENCES BookTitles(ID);\n",
    "ALTER TABLE  BOOKS ADD CONSTRAINT FK_PRECEDES_BOOKS FOREIGN KEY (Precedes) REFERENCES BookTitles(ID);\n",
    "ALTER TABLE  BOOKS ADD CONSTRAINT FK_PLANT_BOOKS FOREIGN KEY (Setting) REFERENCES Planets(ID);\n",
    "ALTER TABLE  BOOKS ADD CONSTRAINT FK_COLLABORATORS_BOOKS FOREIGN KEY (Collaborators) REFERENCES Collaborators(ID);\n",
    "ALTER TABLE  BOOKS ADD CONSTRAINT FK_PUBLISHER_BOOKS FOREIGN KEY (Publisher) REFERENCES Publisher(ID);\n",
    "\n",
    "\n",
    "--COMMIT TRAN\n",
    "--ROLLBACK TRAN"
   ]
  },
  {
   "cell_type": "markdown",
   "metadata": {},
   "source": [
    "#### SHARDS"
   ]
  },
  {
   "cell_type": "code",
   "execution_count": null,
   "metadata": {
    "vscode": {
     "languageId": "sql"
    }
   },
   "outputs": [],
   "source": [
    "BEGIN TRAN\n",
    "-- Create a new table called '[SHARDS]' in schema '[dbo]'\n",
    "-- Drop the table if it already exists\n",
    "IF OBJECT_ID('[dbo].[SHARDS]', 'U') IS NOT NULL\n",
    "DROP TABLE [dbo].[SHARDS]\n",
    "GO\n",
    "-- Create the table in the specified schema\n",
    "CREATE TABLE [dbo].[SHARDS]\n",
    "(\n",
    "    [SHARD] INT NOT NULL,\n",
    "    [VESSEL] INT NOT NULL,\n",
    "    [CONSTITUENTS] INT NOT NULL,\n",
    "    [SLIVERS] INT NOT NULL,\n",
    "    [SPLINTERS] INT NOT NULL,\n",
    "    [STATUS] INT NOT NULL,\n",
    "    [PERPENDICULARITY] INT NOT NULL,\n",
    "    [MAGIC] INT NOT NULL,\n",
    "    [RESIDENCE] INT NOT NULL,\n",
    "    [SERIES] INT NOT NULL,\n",
    "    [ERA] INT NOT NULL,\n",
    ");\n",
    "GO\n",
    "-- Insert rows into table 'SHARDS' in schema '[dbo]'\n",
    "INSERT INTO SHARDS\n",
    "SELECT s.id 'shard'\n",
    "      ,0 'vessel'\n",
    "      ,ISNULL(c.shard,0) 'constituents'\n",
    "      ,sl.ID 'slivers'\n",
    "      ,sp.id 'splinters'\n",
    "      ,ss.id 'status'\n",
    "      ,p.id 'perpendicularity'\n",
    "      ,m.id 'magics'\n",
    "      ,ISNULL(r.id,0) 'residence'\n",
    "      ,se.id 'feature_in'\n",
    "      ,e.id 'era'\n",
    "FROM [cosmere].[dbo].[shardsImport] si\n",
    "JOIN Shard s ON si.shard = s.name \n",
    "LEFT JOIN Constituents c ON s.name = c.name\n",
    "JOIN Slivers sl ON s.ID = sl.Shard\n",
    "JOIN Splinters sp ON s.id = sp.SHARD\n",
    "JOIN Shard_Status ss ON si.status = ss.NAME\n",
    "JOIN Perpendicularity p ON s.id  = p.shard  \n",
    "JOIN Magics m ON s.id = m.SHARD\n",
    "JOIN Residence r on s.id = r.shard\n",
    "JOIN Series se ON si.feature_in = se.NAME\n",
    "join Era e ON s.id = e.SHARD\n",
    "\n",
    "ALTER TABLE  SHARDS ADD CONSTRAINT FK_SHARD_SHARDS FOREIGN KEY (SHARD) REFERENCES Shard(Id);\n",
    "ALTER TABLE  SHARDS ADD CONSTRAINT FK_SLIVERS_SHARDS FOREIGN KEY (SLIVERS) REFERENCES Slivers(Id);\n",
    "ALTER TABLE  SHARDS ADD CONSTRAINT FK_SPLINTER_SHARDS FOREIGN KEY (SPLINTERS) REFERENCES Splinters(Id);\n",
    "ALTER TABLE  SHARDS ADD CONSTRAINT FK_PERPENDICULARITY_SHARDS FOREIGN KEY (PERPENDICULARITY) REFERENCES Perpendicularity(Id);\n",
    "ALTER TABLE  SHARDS ADD CONSTRAINT FK_MAGICS_SHARDS FOREIGN KEY (MAGIC) REFERENCES Magics(Id);\n",
    "ALTER TABLE  SHARDS ADD CONSTRAINT FK_PLANET_SHARDS FOREIGN KEY (RESIDENCE) REFERENCES Residence(Id);\n",
    "ALTER TABLE  SHARDS ADD CONSTRAINT FK_SERIES_SHARDS FOREIGN KEY (SERIES) REFERENCES Series(Id);\n",
    "ALTER TABLE  SHARDS ADD CONSTRAINT FK_BOOKERA_SHARDS FOREIGN KEY (ERA) REFERENCES Era(Id);\n",
    "\n",
    "--COMMIT TRAN\n",
    "--ROLLBACK TRAN"
   ]
  }
 ],
 "metadata": {
  "kernelspec": {
   "display_name": "Python 3.8.3 32-bit",
   "language": "python",
   "name": "python3"
  },
  "language_info": {
   "codemirror_mode": {
    "name": "ipython",
    "version": 3
   },
   "file_extension": ".py",
   "mimetype": "text/x-python",
   "name": "python",
   "nbconvert_exporter": "python",
   "pygments_lexer": "ipython3",
   "version": "3.8.3"
  },
  "vscode": {
   "interpreter": {
    "hash": "cb858e472e5875de738cdde6dca94d6b367c87f760ad3d16195c588ba9edb082"
   }
  }
 },
 "nbformat": 4,
 "nbformat_minor": 4
}
