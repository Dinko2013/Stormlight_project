{
 "cells": [
  {
   "cell_type": "code",
   "execution_count": null,
   "metadata": {},
   "outputs": [],
   "source": [
    "if 'Follows' in x[0]:\n",
    "        book.follows = str(x[1])\n",
    "        print(\" in Follows\")\n",
    "    elif 'Precedes' in x[0]:\n",
    "        book.precedes = str(x[1])\n",
    "        print(\" in Precedes\")\n",
    "    elif 'Setting' in x[0]:\n",
    "        book.setting = x[1].split(\", \")\n",
    "        print(\" in Setting\")\n",
    "    elif 'Collaborators' in x[0]:\n",
    "        book.collaborators = x[1].split(\", \")\n",
    "        print(\" in Collaborators\")\n",
    "    elif 'Released' in x[0]:\n",
    "        book.released = x[1]  \n",
    "        print(\" in Released\")\n",
    "    elif 'Publisher' in x[0]:\n",
    "        book.publisher = x[1]\n",
    "        print(\" in Publisher\")\n",
    "    elif 'ISBN' in x[0]:\n",
    "        book.isbn = x[1]\n",
    "        print(\" in ISBN\")\n",
    "    elif 'Page' in x[0]:\n",
    "        y= x[1].split(\" \",1)\n",
    "        book.pageCount = y[1]\n",
    "        print(\" in Page count\")\n",
    "    elif  'Word' in x[0]:\n",
    "        y= x[1].split(\" \",1)\n",
    "        book.wordCount = y[1]\n",
    "        print(\" in Word count\")\n",
    "BooksComplete.append(book)"
   ]
  }
 ],
 "metadata": {
  "kernelspec": {
   "display_name": "Python 3",
   "language": "python",
   "name": "python3"
  },
  "language_info": {
   "codemirror_mode": {
    "name": "ipython",
    "version": 3
   },
   "file_extension": ".py",
   "mimetype": "text/x-python",
   "name": "python",
   "nbconvert_exporter": "python",
   "pygments_lexer": "ipython3",
   "version": "3.8.3"
  }
 },
 "nbformat": 4,
 "nbformat_minor": 4
}
