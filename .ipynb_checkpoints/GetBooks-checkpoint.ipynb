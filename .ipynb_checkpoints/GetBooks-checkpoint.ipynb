{
 "cells": [
  {
   "cell_type": "code",
   "execution_count": 1,
   "metadata": {},
   "outputs": [],
   "source": [
    "import pandas as  pd\n",
    "from selenium import webdriver\n",
    "from webdriver_manager.chrome import ChromeDriverManager\n"
   ]
  },
  {
   "cell_type": "markdown",
   "metadata": {},
   "source": [
    "GET Drivers"
   ]
  },
  {
   "cell_type": "code",
   "execution_count": 2,
   "metadata": {},
   "outputs": [
    {
     "name": "stdout",
     "output_type": "stream",
     "text": [
      "\n"
     ]
    },
    {
     "name": "stderr",
     "output_type": "stream",
     "text": [
      "[WDM] - ====== WebDriver manager ======\n",
      "[WDM] - Current google-chrome version is 102.0.5005\n",
      "[WDM] - Get LATEST chromedriver version for 102.0.5005 google-chrome\n",
      "[WDM] - About to download new driver from https://chromedriver.storage.googleapis.com/102.0.5005.61/chromedriver_win32.zip\n",
      "[WDM] - Driver has been saved in cache [C:\\Users\\modou\\.wdm\\drivers\\chromedriver\\win32\\102.0.5005.61]\n",
      "<ipython-input-2-c026f0c15647>:1: DeprecationWarning: executable_path has been deprecated, please pass in a Service object\n",
      "  driver = webdriver.Chrome(ChromeDriverManager().install())\n"
     ]
    }
   ],
   "source": [
    "driver = webdriver.Chrome(ChromeDriverManager().install())"
   ]
  },
  {
   "cell_type": "code",
   "execution_count": 3,
   "metadata": {},
   "outputs": [],
   "source": [
    "page_url=\"https://coppermind.net/wiki/Category:Books\"\n",
    "driver.get(page_url)"
   ]
  },
  {
   "cell_type": "code",
   "execution_count": 4,
   "metadata": {},
   "outputs": [],
   "source": [
    "from selenium.webdriver.common.by import By\n",
    "\n",
    "driver.find_element(By.XPATH, '//button[text() =\"Proceed\"]').click()"
   ]
  },
  {
   "cell_type": "markdown",
   "metadata": {},
   "source": [
    "Get book series"
   ]
  },
  {
   "cell_type": "code",
   "execution_count": 5,
   "metadata": {},
   "outputs": [],
   "source": [
    "def makeBookObject() :\n",
    "        class baseObjectBook():\n",
    "            def ___init__(self,title,link,saga):\n",
    "                self.title = title\n",
    "                self.link = link \n",
    "                self.saga =saga\n",
    "           \n",
    "        return baseObjectBook;\n",
    "        \n",
    "o = makeBookObject()\n",
    "Books=[]\n",
    "x = driver.find_elements(By.CLASS_NAME, 'kv')\n",
    "for a in x:\n",
    "    y=a.find_elements(By.TAG_NAME,'td')\n",
    "    for b in y:\n",
    "        z = b.find_elements(By.TAG_NAME,'a')\n",
    "        for c in z:\n",
    "            o.saga =  a.find_element(By.TAG_NAME,'th').text\n",
    "            o.title = c.get_attribute('title') \n",
    "            o.link = c.get_attribute('href')\n",
    "            x = makeBookObject()\n",
    "            x=o\n",
    "            Books.append(o)\n",
    "            o = makeBookObject()"
   ]
  },
  {
   "cell_type": "code",
   "execution_count": 29,
   "metadata": {},
   "outputs": [
    {
     "ename": "AttributeError",
     "evalue": "'list' object has no attribute 'size'",
     "output_type": "error",
     "traceback": [
      "\u001b[1;31m---------------------------------------------------------------------------\u001b[0m",
      "\u001b[1;31mAttributeError\u001b[0m                            Traceback (most recent call last)",
      "\u001b[1;32m<ipython-input-29-6fa8f81c1b6c>\u001b[0m in \u001b[0;36m<module>\u001b[1;34m\u001b[0m\n\u001b[0;32m     34\u001b[0m         \u001b[0marr\u001b[0m \u001b[1;33m=\u001b[0m \u001b[0ms\u001b[0m\u001b[1;33m.\u001b[0m\u001b[0msplit\u001b[0m\u001b[1;33m(\u001b[0m\u001b[1;34m\",\"\u001b[0m\u001b[1;33m)\u001b[0m\u001b[1;33m\u001b[0m\u001b[1;33m\u001b[0m\u001b[0m\n\u001b[0;32m     35\u001b[0m         \u001b[0mj\u001b[0m \u001b[1;33m=\u001b[0m \u001b[0mnp\u001b[0m\u001b[1;33m.\u001b[0m\u001b[0marray\u001b[0m\u001b[1;33m(\u001b[0m\u001b[0marr\u001b[0m\u001b[1;33m)\u001b[0m\u001b[1;33m\u001b[0m\u001b[1;33m\u001b[0m\u001b[0m\n\u001b[1;32m---> 36\u001b[1;33m         \u001b[0mj\u001b[0m\u001b[1;33m.\u001b[0m\u001b[0mreshape\u001b[0m\u001b[1;33m(\u001b[0m\u001b[0marr\u001b[0m\u001b[1;33m.\u001b[0m\u001b[0msize\u001b[0m\u001b[1;33m,\u001b[0m\u001b[1;36m1\u001b[0m\u001b[1;33m)\u001b[0m\u001b[1;33m\u001b[0m\u001b[1;33m\u001b[0m\u001b[0m\n\u001b[0m\u001b[0;32m     37\u001b[0m         \u001b[0mprint\u001b[0m\u001b[1;33m(\u001b[0m\u001b[0mj\u001b[0m\u001b[1;33m)\u001b[0m\u001b[1;33m\u001b[0m\u001b[1;33m\u001b[0m\u001b[0m\n\u001b[0;32m     38\u001b[0m \u001b[1;33m\u001b[0m\u001b[0m\n",
      "\u001b[1;31mAttributeError\u001b[0m: 'list' object has no attribute 'size'"
     ]
    }
   ],
   "source": [
    "import numpy as np\n",
    "def makeBookObjectComplete() :\n",
    "        class baseObjectBookComplete():\n",
    "                def ___init__(self,title,link,saga,follows,precedes,setting,collaborators,released,publisher,isbn,pageCount,wordCount):\n",
    "                        self.title = title\n",
    "                        self.link = link \n",
    "                        self.saga =saga\n",
    "                        self.follows = follows\n",
    "                        self.precedes = precedes\n",
    "                        self.setting = setting[\"\"]\n",
    "                        self.collaborators = collaborators[\"\"]\n",
    "                        self.release = released\n",
    "                        self.publisher = publisher\n",
    "                        self.isbn = isbn        \n",
    "                        self.pageCount = pageCount \n",
    "                        self.wordCount = wordCount\n",
    "        return baseObjectBookComplete;\n",
    "verify = [\"Follows\",\"Precedes\",\"Setting\",\"Collaborators\",\"Released\",\"Publisher\",\"ISBN\",\"Page Count\",\"Word Count\"]\n",
    "data = []\n",
    "BooksComplete =[]\n",
    "\n",
    "for bk in Books:\n",
    "        driver.get(bk.link)\n",
    "        bookComplete = makeBookObjectComplete()\n",
    "        y = driver.find_element(By.CLASS_NAME, 'infobox')\n",
    "        findOtherDetails = y.find_elements(By.CLASS_NAME, 'kv')\n",
    "        s= \"title<->\"+bk.title +\",link<->\"+ bk.link + \",saga<->\"+bk.saga\n",
    "        for detail in findOtherDetails:\n",
    "               xx = detail.find_element(By.TAG_NAME, 'th')\n",
    "               yy = detail.find_elements(By.TAG_NAME, 'td')\n",
    "               i = 0\n",
    "               for ya in yy:\n",
    "                    s+=\", \" + xx.text +\"<->\"+ ya.text.replace(\",\",\"  \")\n",
    "        arr = s.split(\",\")\n",
    "        j = np.array(arr)\n",
    "        j.reshape(arr.size,1)\n",
    "        print(j)\n",
    " "
   ]
  },
  {
   "cell_type": "code",
   "execution_count": null,
   "metadata": {},
   "outputs": [],
   "source": [
    "for book in BooksComplete:\n",
    "    print(book.follows is None)"
   ]
  },
  {
   "cell_type": "code",
   "execution_count": null,
   "metadata": {},
   "outputs": [],
   "source": []
  },
  {
   "cell_type": "code",
   "execution_count": null,
   "metadata": {},
   "outputs": [],
   "source": []
  }
 ],
 "metadata": {
  "kernelspec": {
   "display_name": "Python 3",
   "language": "python",
   "name": "python3"
  },
  "language_info": {
   "codemirror_mode": {
    "name": "ipython",
    "version": 3
   },
   "file_extension": ".py",
   "mimetype": "text/x-python",
   "name": "python",
   "nbconvert_exporter": "python",
   "pygments_lexer": "ipython3",
   "version": "3.8.3"
  },
  "vscode": {
   "interpreter": {
    "hash": "1a09ea459ee7e81c736ca9dffd0f603b9f4507a5e36c4f2b5f3604bec7cc609f"
   }
  }
 },
 "nbformat": 4,
 "nbformat_minor": 4
}
